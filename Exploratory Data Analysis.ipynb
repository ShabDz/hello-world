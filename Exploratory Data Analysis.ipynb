{
 "cells": [
  {
   "cell_type": "markdown",
   "metadata": {},
   "source": [
    "#                                                 Exploratory Data Analysis and Visualization using Order and SKU Data\n",
    "\n",
    "### By: Parvaneh Jahani"
   ]
  },
  {
   "cell_type": "markdown",
   "metadata": {},
   "source": [
    "## **Content:**\n",
    "\n",
    "1. [Data Exploratory](#1)\n",
    "\n",
    "    1. [Import order file](#41)\n",
    "    \n",
    "    1. [Revising the columns' names](#2)\n",
    "\n",
    "    1. [Head of DataFrame](#3)\n",
    "\n",
    "    1. [DataFrame Information](#4)\n",
    "\n",
    "    1. [DataFrame Description](#5)\n",
    "\n",
    "    1. [Correlation matrix](#6)\n",
    "\n",
    "    1. [Correlation matrix](#7)\n",
    "\n",
    "    1. [Cluster map](#8)\n",
    "\n",
    "    1. [Plot target columns](#9)\n",
    "    \n",
    "    1. [jointplot for paid for order and Tax amount](#46)\n",
    "\n",
    "1. [Summaries](#11)\n",
    "\n",
    "    1. [Reduce size of DataFrame](#10)\n",
    "\n",
    "    1. [SKU Summary](#12)\n",
    "\n",
    "    1. [Order Summary By Date](#13)\n",
    "\n",
    "    1. [Bar chart for orders per week](#14)\n",
    "\n",
    "    1. [Find Peak Day](#15)\n",
    "    \n",
    "    1. [Unique SKUs per Week](#47)\n",
    "\n",
    "    1. [Location Summary](#16)\n",
    "\n",
    "    1. [Histogram of orders by location (state)](#17)\n",
    "    \n",
    "    1. [Order/SKUs distribution in geographical map](#28)\n",
    "\n",
    "    1. [Order Summary](#18)\n",
    "\n",
    "1. [Pareto Diagrams](#19)\n",
    "\n",
    "    1. [Pareto diagram for Lines](#20)\n",
    "\n",
    "    1. [Pareto diagram for quantity](#21)\n",
    "\n",
    "1. [Single-Multi order analysis](#22)\n",
    "\n",
    "    1. [Number of single-multi orders](#23)\n",
    "\n",
    "    1. [Count of single multi lines](#24)\n",
    "\n",
    "    1. [Order Summary by date for Single-Single](#25)\n",
    "\n",
    "    1. [Order Summary by date for Single-Multi](#26)\n",
    "\n",
    "    1. [Order Summary by date for Multi-Multi](#27)\n",
    "\n",
    "**************************************************************\n",
    "1. [SKU Profile](#29)\n",
    "\n",
    "    1. [Revising the columns' names](#30)\n",
    "\n",
    "    1. [Head of DataFrame](#31)\n",
    "\n",
    "    1. [DataFrame Information](#32)\n",
    "\n",
    "    1. [DataFrame Description](#33)\n",
    "\n",
    "    1. [Reduce size of DataFrame](#34)\n",
    "\n",
    "    1. [Box plot for items' dimensions](#35)\n",
    "\n",
    "1. [Merge SKU profile and order data](#36)\n",
    "\n",
    "1. [Summaries](#37)\n",
    "\n",
    "    1. [Summary of Peak Day](#38)\n",
    "\n",
    "    1. [Number of lines per Department](#39)\n",
    "\n",
    "    1. [Number of lines Per Brand](#40)\n",
    "    \n",
    "    1. [barplot for qty per single-multi](#42)\n",
    "    \n",
    "    1. [boxplot for qty per single-multi](#43)\n",
    "    \n",
    "    1. [distplot for AVG Cost](#44)\n",
    "    \n",
    "    1. [Violinplot for AVG Cost per Single-Multi](#45)\n",
    "    \n",
    "    \n"
   ]
  },
  {
   "cell_type": "markdown",
   "metadata": {},
   "source": [
    "<a id=\"1\"></a> <br>\n",
    "# Data Exploratory\n",
    "Exploratory data analysis (EDA) is an important pillar of data science, a critical step required to complete most projects. It gives OSD analysts a sense of what additional analysis should be performed to extract more insights from projects’ data, compared to delivering the basic summary statistics. It also informs analysts as to what the deliverables of our analytical process should be. Data analysts can refer to this file to find any type of analysis that they need for their target project and it saves a lot of time of search for finding the corresponding codes and visualization techniques. EDA is a standard data analysis platform and an open-ended process where we calculate statistics and make figures to find trends, anomalies, patterns, or relationships within the data. The goal of EDA is to learn more about what our order and sku data can tell us. It generally starts out with a high level overview of the data set, then narrows in to specific summaries, trends, and distributions, along with visualization to promote communication with our customers. The findings may be used by OSD consultants, or they can be applied to support analysts in their modeling choices, such as feature engineering and per-processing steps in predictive model development.\n",
    "## Libraries\n",
    "Four main libraries are as follow: \n",
    "\n",
    "* Pandas DataFrames are the workhorse of pandas. Pandas is an open source library providing high-performance, easy-to-use data structures and data analysis tools for the Python programming language.\n",
    "* NumPy is the fundamental package for scientific computing with Python. It contains among other things:\n",
    "  * a powerful N-dimensional array object\n",
    "  * sophisticated (broadcasting) functions\n",
    "  * useful linear algebra, Fourier transform, and random number capabilities\n",
    "* Matplot is a python library that help us to plot data. The easiest and basic plots are line, scatter and histogram plots.\n",
    "\n",
    "   * Line plot is better when x axis is time.\n",
    "   * Scatter is better when there is correlation between two variables\n",
    "   * Histogram is better when we need to see distribution of numerical data.\n",
    "   * Customization: Colors,labels,thickness of line, title, opacity, grid, figsize, ticks of axis and linestyle\n",
    "* pylab is a module that gets installed alongside matplotlib. The pyplot interface is generally preferred for non-interactive plotting (i.e., scripting). The pylab interface is convenient for interactive calculations and plotting, as it minimizes typing. \n"
   ]
  },
  {
   "cell_type": "code",
   "execution_count": 1,
   "metadata": {
    "collapsed": false
   },
   "outputs": [
    {
     "data": {
      "text/html": [
       "<script>requirejs.config({paths: { 'plotly': ['https://cdn.plot.ly/plotly-latest.min']},});if(!window.Plotly) {{require(['plotly'],function(plotly) {window.Plotly=plotly;});}}</script>"
      ],
      "text/vnd.plotly.v1+html": [
       "<script>requirejs.config({paths: { 'plotly': ['https://cdn.plot.ly/plotly-latest.min']},});if(!window.Plotly) {{require(['plotly'],function(plotly) {window.Plotly=plotly;});}}</script>"
      ]
     },
     "metadata": {},
     "output_type": "display_data"
    }
   ],
   "source": [
    "%matplotlib inline\n",
    "import pandas as pd # data processing, CSV file I/O (e.g. pd.read_csv)\n",
    "import numpy as np # linear algebra\n",
    "import os\n",
    "import glob\n",
    "from matplotlib import pyplot as plt\n",
    "from pylab import figure, axes, pie, title, show\n",
    "import pylab\n",
    "import import_ipynb\n",
    "import matplotlib.pyplot as plt\n",
    "import seaborn as sns  # visualization tool\n",
    "from matplotlib import pyplot\n",
    "pd.set_option('display.max_columns', None)\n",
    "pd.set_option('display.max_rows', None)\n",
    "import warnings\n",
    "warnings.filterwarnings(\"ignore\")\n",
    "import plotly.graph_objs as go \n",
    "from plotly.offline import download_plotlyjs, init_notebook_mode, plot, iplot\n",
    "init_notebook_mode(connected=True) # set up everything so that the figures show up in the notebook:"
   ]
  },
  {
   "cell_type": "markdown",
   "metadata": {},
   "source": [
    "<a id=\"41\"></a> <br>\n",
    "# Import order file"
   ]
  },
  {
   "cell_type": "code",
   "execution_count": 2,
   "metadata": {
    "collapsed": false
   },
   "outputs": [],
   "source": [
    "fullFrame = pd.read_csv('C:/Users/Parvaneh.Jahani/Desktop/Spencer/OrderData.txt', sep=\"|\", error_bad_lines=False, encoding = \"ISO-8859-1\")\n",
    "data = pd.DataFrame(fullFrame)"
   ]
  },
  {
   "cell_type": "markdown",
   "metadata": {},
   "source": [
    "<a id=\"2\"></a> <br>\n",
    "# Revising the columns' names\n",
    "To make sure that all columns' names are referable, .replace() method allows you to replace non-conforming characters, such as #/.-(), with under line.  "
   ]
  },
  {
   "cell_type": "code",
   "execution_count": 3,
   "metadata": {
    "collapsed": false,
    "scrolled": true
   },
   "outputs": [
    {
     "data": {
      "text/plain": [
       "Index(['Last_Name', 'First_Name', 'City', 'State', 'Zip', 'Cntry',\n",
       "       'Order_Number', 'Order_Date', 'Trunc__Date',\n",
       "       'Total_Amount_Paid_For_Order', 'Tax_Amount', 'Shipping_Amount',\n",
       "       'Discount_Amount', 'Total_Amount_Paid_for_Products',\n",
       "       'Product_SKU_Number', 'Number_of_Items_Purchased',\n",
       "       'Unit_Price__for_item_'],\n",
       "      dtype='object')"
      ]
     },
     "execution_count": 3,
     "metadata": {},
     "output_type": "execute_result"
    }
   ],
   "source": [
    "cols = data.columns\n",
    "cols = cols.map(lambda x: x.replace(' ', '_'))\n",
    "data.columns = cols\n",
    "\n",
    "cols = data.columns\n",
    "cols = cols.map(lambda x: x.replace('-', '_'))\n",
    "data.columns = cols\n",
    "\n",
    "cols = data.columns\n",
    "cols = cols.map(lambda x: x.replace('.', '_'))\n",
    "data.columns = cols\n",
    "\n",
    "cols = data.columns\n",
    "cols = cols.map(lambda x: x.replace('#', '_'))\n",
    "data.columns = cols\n",
    "\n",
    "cols = data.columns\n",
    "cols = cols.map(lambda x: x.replace('/', '_'))\n",
    "data.columns = cols\n",
    "\n",
    "cols = data.columns\n",
    "cols = cols.map(lambda x: x.replace('(', '_'))\n",
    "data.columns = cols\n",
    "\n",
    "cols = data.columns\n",
    "cols = cols.map(lambda x: x.replace(')', '_'))\n",
    "data.columns = cols\n",
    "data.columns"
   ]
  },
  {
   "cell_type": "markdown",
   "metadata": {},
   "source": [
    "<a id=\"3\"></a> <br>\n",
    "# Head of DataFrame\n",
    "DataFrame.head() function returns the first n rows for the object based on position. It is useful for quickly testing if your object has the right type of data in it."
   ]
  },
  {
   "cell_type": "code",
   "execution_count": 4,
   "metadata": {
    "collapsed": false,
    "scrolled": true
   },
   "outputs": [
    {
     "data": {
      "text/html": [
       "<div>\n",
       "<style scoped>\n",
       "    .dataframe tbody tr th:only-of-type {\n",
       "        vertical-align: middle;\n",
       "    }\n",
       "\n",
       "    .dataframe tbody tr th {\n",
       "        vertical-align: top;\n",
       "    }\n",
       "\n",
       "    .dataframe thead th {\n",
       "        text-align: right;\n",
       "    }\n",
       "</style>\n",
       "<table border=\"1\" class=\"dataframe\">\n",
       "  <thead>\n",
       "    <tr style=\"text-align: right;\">\n",
       "      <th></th>\n",
       "      <th>Last_Name</th>\n",
       "      <th>First_Name</th>\n",
       "      <th>City</th>\n",
       "      <th>State</th>\n",
       "      <th>Zip</th>\n",
       "      <th>Cntry</th>\n",
       "      <th>Order_Number</th>\n",
       "      <th>Order_Date</th>\n",
       "      <th>Trunc__Date</th>\n",
       "      <th>Total_Amount_Paid_For_Order</th>\n",
       "      <th>Tax_Amount</th>\n",
       "      <th>Shipping_Amount</th>\n",
       "      <th>Discount_Amount</th>\n",
       "      <th>Total_Amount_Paid_for_Products</th>\n",
       "      <th>Product_SKU_Number</th>\n",
       "      <th>Number_of_Items_Purchased</th>\n",
       "      <th>Unit_Price__for_item_</th>\n",
       "    </tr>\n",
       "  </thead>\n",
       "  <tbody>\n",
       "    <tr>\n",
       "      <th>0</th>\n",
       "      <td>Pare</td>\n",
       "      <td>Jennifer</td>\n",
       "      <td>Denver</td>\n",
       "      <td>CO</td>\n",
       "      <td>80238</td>\n",
       "      <td>US</td>\n",
       "      <td>502371350</td>\n",
       "      <td>2018-09-13 19:40:00</td>\n",
       "      <td>2018-09-13</td>\n",
       "      <td>896.02</td>\n",
       "      <td>39.87</td>\n",
       "      <td>4.99</td>\n",
       "      <td>0.80</td>\n",
       "      <td>997.50</td>\n",
       "      <td>132324</td>\n",
       "      <td>250</td>\n",
       "      <td>3.99</td>\n",
       "    </tr>\n",
       "    <tr>\n",
       "      <th>1</th>\n",
       "      <td>Scannell</td>\n",
       "      <td>Monica</td>\n",
       "      <td>Malvern</td>\n",
       "      <td>PA</td>\n",
       "      <td>19355</td>\n",
       "      <td>US</td>\n",
       "      <td>502101444</td>\n",
       "      <td>2018-02-22 17:14:40</td>\n",
       "      <td>2018-02-22</td>\n",
       "      <td>241.57</td>\n",
       "      <td>242.78</td>\n",
       "      <td>0.00</td>\n",
       "      <td>1345.25</td>\n",
       "      <td>4998.00</td>\n",
       "      <td>7265432</td>\n",
       "      <td>200</td>\n",
       "      <td>24.99</td>\n",
       "    </tr>\n",
       "    <tr>\n",
       "      <th>2</th>\n",
       "      <td>Hughes</td>\n",
       "      <td>Tony</td>\n",
       "      <td>Marietta</td>\n",
       "      <td>GA</td>\n",
       "      <td>30066</td>\n",
       "      <td>US</td>\n",
       "      <td>502194695</td>\n",
       "      <td>2018-06-14 10:09:44</td>\n",
       "      <td>2018-06-14</td>\n",
       "      <td>903.32</td>\n",
       "      <td>51.13</td>\n",
       "      <td>0.00</td>\n",
       "      <td>531.83</td>\n",
       "      <td>1384.02</td>\n",
       "      <td>1279496</td>\n",
       "      <td>198</td>\n",
       "      <td>6.99</td>\n",
       "    </tr>\n",
       "    <tr>\n",
       "      <th>3</th>\n",
       "      <td>Flamm</td>\n",
       "      <td>Jared</td>\n",
       "      <td>Encino</td>\n",
       "      <td>CA</td>\n",
       "      <td>91436</td>\n",
       "      <td>US</td>\n",
       "      <td>502247560</td>\n",
       "      <td>2018-07-24 18:11:25</td>\n",
       "      <td>2018-07-24</td>\n",
       "      <td>5096.13</td>\n",
       "      <td>442.13</td>\n",
       "      <td>0.00</td>\n",
       "      <td>0.00</td>\n",
       "      <td>1718.28</td>\n",
       "      <td>1109818</td>\n",
       "      <td>172</td>\n",
       "      <td>9.99</td>\n",
       "    </tr>\n",
       "    <tr>\n",
       "      <th>4</th>\n",
       "      <td>Scannell</td>\n",
       "      <td>Monica</td>\n",
       "      <td>Malvern</td>\n",
       "      <td>PA</td>\n",
       "      <td>19355</td>\n",
       "      <td>US</td>\n",
       "      <td>502101444</td>\n",
       "      <td>2018-02-22 17:14:40</td>\n",
       "      <td>2018-02-22</td>\n",
       "      <td>241.57</td>\n",
       "      <td>242.78</td>\n",
       "      <td>0.00</td>\n",
       "      <td>1345.25</td>\n",
       "      <td>1668.33</td>\n",
       "      <td>7313216</td>\n",
       "      <td>167</td>\n",
       "      <td>9.99</td>\n",
       "    </tr>\n",
       "  </tbody>\n",
       "</table>\n",
       "</div>"
      ],
      "text/plain": [
       "  Last_Name First_Name      City State    Zip Cntry  Order_Number  \\\n",
       "0      Pare   Jennifer    Denver    CO  80238    US     502371350   \n",
       "1  Scannell     Monica   Malvern    PA  19355    US     502101444   \n",
       "2    Hughes       Tony  Marietta    GA  30066    US     502194695   \n",
       "3     Flamm      Jared    Encino    CA  91436    US     502247560   \n",
       "4  Scannell     Monica   Malvern    PA  19355    US     502101444   \n",
       "\n",
       "            Order_Date Trunc__Date  Total_Amount_Paid_For_Order  Tax_Amount  \\\n",
       "0  2018-09-13 19:40:00  2018-09-13                       896.02       39.87   \n",
       "1  2018-02-22 17:14:40  2018-02-22                       241.57      242.78   \n",
       "2  2018-06-14 10:09:44  2018-06-14                       903.32       51.13   \n",
       "3  2018-07-24 18:11:25  2018-07-24                      5096.13      442.13   \n",
       "4  2018-02-22 17:14:40  2018-02-22                       241.57      242.78   \n",
       "\n",
       "   Shipping_Amount  Discount_Amount  Total_Amount_Paid_for_Products  \\\n",
       "0             4.99             0.80                          997.50   \n",
       "1             0.00          1345.25                         4998.00   \n",
       "2             0.00           531.83                         1384.02   \n",
       "3             0.00             0.00                         1718.28   \n",
       "4             0.00          1345.25                         1668.33   \n",
       "\n",
       "   Product_SKU_Number  Number_of_Items_Purchased  Unit_Price__for_item_  \n",
       "0              132324                        250                   3.99  \n",
       "1             7265432                        200                  24.99  \n",
       "2             1279496                        198                   6.99  \n",
       "3             1109818                        172                   9.99  \n",
       "4             7313216                        167                   9.99  "
      ]
     },
     "execution_count": 4,
     "metadata": {},
     "output_type": "execute_result"
    }
   ],
   "source": [
    "data.head()"
   ]
  },
  {
   "cell_type": "markdown",
   "metadata": {},
   "source": [
    "<a id=\"4\"></a> <br>\n",
    "# DataFrame Information\n",
    "Pandas dataframe.info() function is used to get a concise summary of the dataframe. It comes really handy when doing exploratory analysis of the data. To get a quick overview of the dataset we use the dataframe.info() function.\n",
    "\n",
    "### MISSING DATA and TESTING WITH ASSERT\n",
    "If we encounter with missing data, what we can do:\n",
    "* leave as is\n",
    "* drop them with dropna()\n",
    "* fill missing value with fillna()\n",
    "* fill missing values with test statistics like mean\n",
    "<br>Assert statement: check that you can turn on or turn off when you are done with your testing of the program"
   ]
  },
  {
   "cell_type": "code",
   "execution_count": 5,
   "metadata": {
    "collapsed": false
   },
   "outputs": [
    {
     "name": "stdout",
     "output_type": "stream",
     "text": [
      "<class 'pandas.core.frame.DataFrame'>\n",
      "RangeIndex: 1641261 entries, 0 to 1641260\n",
      "Data columns (total 17 columns):\n",
      "Last_Name                         1641241 non-null object\n",
      "First_Name                        1641259 non-null object\n",
      "City                              1641261 non-null object\n",
      "State                             1641258 non-null object\n",
      "Zip                               1641261 non-null object\n",
      "Cntry                             1641261 non-null object\n",
      "Order_Number                      1641261 non-null int64\n",
      "Order_Date                        1641261 non-null object\n",
      "Trunc__Date                       1641261 non-null object\n",
      "Total_Amount_Paid_For_Order       1611974 non-null float64\n",
      "Tax_Amount                        1641261 non-null float64\n",
      "Shipping_Amount                   1641261 non-null float64\n",
      "Discount_Amount                   1641261 non-null float64\n",
      "Total_Amount_Paid_for_Products    1641261 non-null float64\n",
      "Product_SKU_Number                1641261 non-null int64\n",
      "Number_of_Items_Purchased         1641261 non-null int64\n",
      "Unit_Price__for_item_             1641261 non-null float64\n",
      "dtypes: float64(6), int64(3), object(8)\n",
      "memory usage: 212.9+ MB\n"
     ]
    }
   ],
   "source": [
    "data.info()"
   ]
  },
  {
   "cell_type": "markdown",
   "metadata": {},
   "source": [
    "<a id=\"5\"></a> <br>\n",
    "# DataFrame Description\n",
    "\n",
    "DataFrame.describe() enerates descriptive statistics that summarize the central tendency, dispersion and shape of a dataset’s distribution, excluding NaN values. It analyzes both numeric and object series, as well as DataFrame column sets of mixed data types. The output will vary depending on what is provided. Refer to the notes below for more detail.\n",
    "<br>outliers: the value that is considerably higher or lower from rest of the data\n",
    "* Lets say value at 75% is Q3 and value at 25% is Q1. \n",
    "* Outlier are smaller than Q1 - 1.5(Q3-Q1) and bigger than Q3 + 1.5(Q3-Q1). (Q3-Q1) = IQR\n",
    "<br>We will use describe() method. Describe method includes:\n",
    "* count: number of entries\n",
    "* mean: average of entries\n",
    "* std: standart deviation\n",
    "* min: minimum entry\n",
    "* 25%: first quantile\n",
    "* 50%: median or second quantile\n",
    "* 75%: third quantile\n",
    "* max: maximum entry\n",
    "\n",
    "<br> What is quantile?\n",
    "\n",
    "* 1,4,5,6,8,9,11,12,13,14,15,16,17\n",
    "* The median is the number that is in **middle** of the sequence. In this case it would be 11.\n",
    "\n",
    "* The lower quartile is the median in between the smallest number and the median i.e. in between 1 and 11, which is 6.\n",
    "* The upper quartile, you find the median between the median and the largest number i.e. between 11 and 17, which will be 14 according to the question above."
   ]
  },
  {
   "cell_type": "code",
   "execution_count": 6,
   "metadata": {
    "collapsed": false
   },
   "outputs": [
    {
     "data": {
      "text/html": [
       "<div>\n",
       "<style scoped>\n",
       "    .dataframe tbody tr th:only-of-type {\n",
       "        vertical-align: middle;\n",
       "    }\n",
       "\n",
       "    .dataframe tbody tr th {\n",
       "        vertical-align: top;\n",
       "    }\n",
       "\n",
       "    .dataframe thead th {\n",
       "        text-align: right;\n",
       "    }\n",
       "</style>\n",
       "<table border=\"1\" class=\"dataframe\">\n",
       "  <thead>\n",
       "    <tr style=\"text-align: right;\">\n",
       "      <th></th>\n",
       "      <th>Order_Number</th>\n",
       "      <th>Total_Amount_Paid_For_Order</th>\n",
       "      <th>Tax_Amount</th>\n",
       "      <th>Shipping_Amount</th>\n",
       "      <th>Discount_Amount</th>\n",
       "      <th>Total_Amount_Paid_for_Products</th>\n",
       "      <th>Product_SKU_Number</th>\n",
       "      <th>Number_of_Items_Purchased</th>\n",
       "      <th>Unit_Price__for_item_</th>\n",
       "    </tr>\n",
       "  </thead>\n",
       "  <tbody>\n",
       "    <tr>\n",
       "      <th>count</th>\n",
       "      <td>1.641261e+06</td>\n",
       "      <td>1.611974e+06</td>\n",
       "      <td>1.641261e+06</td>\n",
       "      <td>1.641261e+06</td>\n",
       "      <td>1.641261e+06</td>\n",
       "      <td>1.641261e+06</td>\n",
       "      <td>1.641261e+06</td>\n",
       "      <td>1.641261e+06</td>\n",
       "      <td>1.641261e+06</td>\n",
       "    </tr>\n",
       "    <tr>\n",
       "      <th>mean</th>\n",
       "      <td>5.025120e+08</td>\n",
       "      <td>8.136983e+01</td>\n",
       "      <td>4.491509e+00</td>\n",
       "      <td>8.330366e+00</td>\n",
       "      <td>7.666995e+00</td>\n",
       "      <td>2.817888e+01</td>\n",
       "      <td>3.219389e+06</td>\n",
       "      <td>1.092874e+00</td>\n",
       "      <td>2.687138e+01</td>\n",
       "    </tr>\n",
       "    <tr>\n",
       "      <th>std</th>\n",
       "      <td>2.542304e+05</td>\n",
       "      <td>1.230541e+02</td>\n",
       "      <td>7.912338e+00</td>\n",
       "      <td>1.238391e+01</td>\n",
       "      <td>1.326985e+01</td>\n",
       "      <td>3.331743e+01</td>\n",
       "      <td>2.482874e+06</td>\n",
       "      <td>1.014814e+00</td>\n",
       "      <td>2.671818e+01</td>\n",
       "    </tr>\n",
       "    <tr>\n",
       "      <th>min</th>\n",
       "      <td>5.020804e+08</td>\n",
       "      <td>0.000000e+00</td>\n",
       "      <td>0.000000e+00</td>\n",
       "      <td>0.000000e+00</td>\n",
       "      <td>0.000000e+00</td>\n",
       "      <td>0.000000e+00</td>\n",
       "      <td>1.076900e+04</td>\n",
       "      <td>1.000000e+00</td>\n",
       "      <td>0.000000e+00</td>\n",
       "    </tr>\n",
       "    <tr>\n",
       "      <th>25%</th>\n",
       "      <td>5.022925e+08</td>\n",
       "      <td>3.682000e+01</td>\n",
       "      <td>1.710000e+00</td>\n",
       "      <td>4.990000e+00</td>\n",
       "      <td>0.000000e+00</td>\n",
       "      <td>1.000000e+01</td>\n",
       "      <td>1.365063e+06</td>\n",
       "      <td>1.000000e+00</td>\n",
       "      <td>9.990000e+00</td>\n",
       "    </tr>\n",
       "    <tr>\n",
       "      <th>50%</th>\n",
       "      <td>5.025023e+08</td>\n",
       "      <td>5.624000e+01</td>\n",
       "      <td>3.020000e+00</td>\n",
       "      <td>6.990000e+00</td>\n",
       "      <td>3.750000e+00</td>\n",
       "      <td>1.999000e+01</td>\n",
       "      <td>2.247716e+06</td>\n",
       "      <td>1.000000e+00</td>\n",
       "      <td>1.999000e+01</td>\n",
       "    </tr>\n",
       "    <tr>\n",
       "      <th>75%</th>\n",
       "      <td>5.027343e+08</td>\n",
       "      <td>9.206000e+01</td>\n",
       "      <td>5.260000e+00</td>\n",
       "      <td>9.990000e+00</td>\n",
       "      <td>1.000000e+01</td>\n",
       "      <td>3.699000e+01</td>\n",
       "      <td>3.397247e+06</td>\n",
       "      <td>1.000000e+00</td>\n",
       "      <td>3.699000e+01</td>\n",
       "    </tr>\n",
       "    <tr>\n",
       "      <th>max</th>\n",
       "      <td>5.029508e+08</td>\n",
       "      <td>1.599661e+04</td>\n",
       "      <td>8.887000e+02</td>\n",
       "      <td>9.996900e+02</td>\n",
       "      <td>1.345250e+03</td>\n",
       "      <td>1.421900e+04</td>\n",
       "      <td>8.188856e+06</td>\n",
       "      <td>2.970000e+02</td>\n",
       "      <td>8.999900e+02</td>\n",
       "    </tr>\n",
       "  </tbody>\n",
       "</table>\n",
       "</div>"
      ],
      "text/plain": [
       "       Order_Number  Total_Amount_Paid_For_Order    Tax_Amount  \\\n",
       "count  1.641261e+06                 1.611974e+06  1.641261e+06   \n",
       "mean   5.025120e+08                 8.136983e+01  4.491509e+00   \n",
       "std    2.542304e+05                 1.230541e+02  7.912338e+00   \n",
       "min    5.020804e+08                 0.000000e+00  0.000000e+00   \n",
       "25%    5.022925e+08                 3.682000e+01  1.710000e+00   \n",
       "50%    5.025023e+08                 5.624000e+01  3.020000e+00   \n",
       "75%    5.027343e+08                 9.206000e+01  5.260000e+00   \n",
       "max    5.029508e+08                 1.599661e+04  8.887000e+02   \n",
       "\n",
       "       Shipping_Amount  Discount_Amount  Total_Amount_Paid_for_Products  \\\n",
       "count     1.641261e+06     1.641261e+06                    1.641261e+06   \n",
       "mean      8.330366e+00     7.666995e+00                    2.817888e+01   \n",
       "std       1.238391e+01     1.326985e+01                    3.331743e+01   \n",
       "min       0.000000e+00     0.000000e+00                    0.000000e+00   \n",
       "25%       4.990000e+00     0.000000e+00                    1.000000e+01   \n",
       "50%       6.990000e+00     3.750000e+00                    1.999000e+01   \n",
       "75%       9.990000e+00     1.000000e+01                    3.699000e+01   \n",
       "max       9.996900e+02     1.345250e+03                    1.421900e+04   \n",
       "\n",
       "       Product_SKU_Number  Number_of_Items_Purchased  Unit_Price__for_item_  \n",
       "count        1.641261e+06               1.641261e+06           1.641261e+06  \n",
       "mean         3.219389e+06               1.092874e+00           2.687138e+01  \n",
       "std          2.482874e+06               1.014814e+00           2.671818e+01  \n",
       "min          1.076900e+04               1.000000e+00           0.000000e+00  \n",
       "25%          1.365063e+06               1.000000e+00           9.990000e+00  \n",
       "50%          2.247716e+06               1.000000e+00           1.999000e+01  \n",
       "75%          3.397247e+06               1.000000e+00           3.699000e+01  \n",
       "max          8.188856e+06               2.970000e+02           8.999900e+02  "
      ]
     },
     "execution_count": 6,
     "metadata": {},
     "output_type": "execute_result"
    }
   ],
   "source": [
    "data.describe()"
   ]
  },
  {
   "cell_type": "markdown",
   "metadata": {},
   "source": [
    "<a id=\"6\"></a> <br>\n",
    "# Correlation matrix\n",
    "DataFrame.corr()Computes pairwise correlation of columns, excluding NA/null values."
   ]
  },
  {
   "cell_type": "code",
   "execution_count": 7,
   "metadata": {
    "collapsed": false
   },
   "outputs": [
    {
     "data": {
      "text/html": [
       "<div>\n",
       "<style scoped>\n",
       "    .dataframe tbody tr th:only-of-type {\n",
       "        vertical-align: middle;\n",
       "    }\n",
       "\n",
       "    .dataframe tbody tr th {\n",
       "        vertical-align: top;\n",
       "    }\n",
       "\n",
       "    .dataframe thead th {\n",
       "        text-align: right;\n",
       "    }\n",
       "</style>\n",
       "<table border=\"1\" class=\"dataframe\">\n",
       "  <thead>\n",
       "    <tr style=\"text-align: right;\">\n",
       "      <th></th>\n",
       "      <th>Order_Number</th>\n",
       "      <th>Total_Amount_Paid_For_Order</th>\n",
       "      <th>Tax_Amount</th>\n",
       "      <th>Shipping_Amount</th>\n",
       "      <th>Discount_Amount</th>\n",
       "      <th>Total_Amount_Paid_for_Products</th>\n",
       "      <th>Product_SKU_Number</th>\n",
       "      <th>Number_of_Items_Purchased</th>\n",
       "      <th>Unit_Price__for_item_</th>\n",
       "    </tr>\n",
       "  </thead>\n",
       "  <tbody>\n",
       "    <tr>\n",
       "      <th>Order_Number</th>\n",
       "      <td>1.000000</td>\n",
       "      <td>-0.035743</td>\n",
       "      <td>-0.040267</td>\n",
       "      <td>0.019548</td>\n",
       "      <td>0.069991</td>\n",
       "      <td>-0.004378</td>\n",
       "      <td>-0.039776</td>\n",
       "      <td>-0.005259</td>\n",
       "      <td>-0.000097</td>\n",
       "    </tr>\n",
       "    <tr>\n",
       "      <th>Total_Amount_Paid_For_Order</th>\n",
       "      <td>-0.035743</td>\n",
       "      <td>1.000000</td>\n",
       "      <td>0.676289</td>\n",
       "      <td>0.440773</td>\n",
       "      <td>0.235141</td>\n",
       "      <td>0.330306</td>\n",
       "      <td>-0.024403</td>\n",
       "      <td>0.169641</td>\n",
       "      <td>0.245015</td>\n",
       "    </tr>\n",
       "    <tr>\n",
       "      <th>Tax_Amount</th>\n",
       "      <td>-0.040267</td>\n",
       "      <td>0.676289</td>\n",
       "      <td>1.000000</td>\n",
       "      <td>0.608828</td>\n",
       "      <td>0.285600</td>\n",
       "      <td>0.307311</td>\n",
       "      <td>-0.024984</td>\n",
       "      <td>0.177526</td>\n",
       "      <td>0.215470</td>\n",
       "    </tr>\n",
       "    <tr>\n",
       "      <th>Shipping_Amount</th>\n",
       "      <td>0.019548</td>\n",
       "      <td>0.440773</td>\n",
       "      <td>0.608828</td>\n",
       "      <td>1.000000</td>\n",
       "      <td>0.049517</td>\n",
       "      <td>0.190827</td>\n",
       "      <td>-0.028145</td>\n",
       "      <td>0.054063</td>\n",
       "      <td>0.191586</td>\n",
       "    </tr>\n",
       "    <tr>\n",
       "      <th>Discount_Amount</th>\n",
       "      <td>0.069991</td>\n",
       "      <td>0.235141</td>\n",
       "      <td>0.285600</td>\n",
       "      <td>0.049517</td>\n",
       "      <td>1.000000</td>\n",
       "      <td>0.162266</td>\n",
       "      <td>-0.005882</td>\n",
       "      <td>0.154022</td>\n",
       "      <td>0.066702</td>\n",
       "    </tr>\n",
       "    <tr>\n",
       "      <th>Total_Amount_Paid_for_Products</th>\n",
       "      <td>-0.004378</td>\n",
       "      <td>0.330306</td>\n",
       "      <td>0.307311</td>\n",
       "      <td>0.190827</td>\n",
       "      <td>0.162266</td>\n",
       "      <td>1.000000</td>\n",
       "      <td>0.049844</td>\n",
       "      <td>0.339968</td>\n",
       "      <td>0.807162</td>\n",
       "    </tr>\n",
       "    <tr>\n",
       "      <th>Product_SKU_Number</th>\n",
       "      <td>-0.039776</td>\n",
       "      <td>-0.024403</td>\n",
       "      <td>-0.024984</td>\n",
       "      <td>-0.028145</td>\n",
       "      <td>-0.005882</td>\n",
       "      <td>0.049844</td>\n",
       "      <td>1.000000</td>\n",
       "      <td>-0.012722</td>\n",
       "      <td>0.064558</td>\n",
       "    </tr>\n",
       "    <tr>\n",
       "      <th>Number_of_Items_Purchased</th>\n",
       "      <td>-0.005259</td>\n",
       "      <td>0.169641</td>\n",
       "      <td>0.177526</td>\n",
       "      <td>0.054063</td>\n",
       "      <td>0.154022</td>\n",
       "      <td>0.339968</td>\n",
       "      <td>-0.012722</td>\n",
       "      <td>1.000000</td>\n",
       "      <td>-0.043861</td>\n",
       "    </tr>\n",
       "    <tr>\n",
       "      <th>Unit_Price__for_item_</th>\n",
       "      <td>-0.000097</td>\n",
       "      <td>0.245015</td>\n",
       "      <td>0.215470</td>\n",
       "      <td>0.191586</td>\n",
       "      <td>0.066702</td>\n",
       "      <td>0.807162</td>\n",
       "      <td>0.064558</td>\n",
       "      <td>-0.043861</td>\n",
       "      <td>1.000000</td>\n",
       "    </tr>\n",
       "  </tbody>\n",
       "</table>\n",
       "</div>"
      ],
      "text/plain": [
       "                                Order_Number  Total_Amount_Paid_For_Order  \\\n",
       "Order_Number                        1.000000                    -0.035743   \n",
       "Total_Amount_Paid_For_Order        -0.035743                     1.000000   \n",
       "Tax_Amount                         -0.040267                     0.676289   \n",
       "Shipping_Amount                     0.019548                     0.440773   \n",
       "Discount_Amount                     0.069991                     0.235141   \n",
       "Total_Amount_Paid_for_Products     -0.004378                     0.330306   \n",
       "Product_SKU_Number                 -0.039776                    -0.024403   \n",
       "Number_of_Items_Purchased          -0.005259                     0.169641   \n",
       "Unit_Price__for_item_              -0.000097                     0.245015   \n",
       "\n",
       "                                Tax_Amount  Shipping_Amount  Discount_Amount  \\\n",
       "Order_Number                     -0.040267         0.019548         0.069991   \n",
       "Total_Amount_Paid_For_Order       0.676289         0.440773         0.235141   \n",
       "Tax_Amount                        1.000000         0.608828         0.285600   \n",
       "Shipping_Amount                   0.608828         1.000000         0.049517   \n",
       "Discount_Amount                   0.285600         0.049517         1.000000   \n",
       "Total_Amount_Paid_for_Products    0.307311         0.190827         0.162266   \n",
       "Product_SKU_Number               -0.024984        -0.028145        -0.005882   \n",
       "Number_of_Items_Purchased         0.177526         0.054063         0.154022   \n",
       "Unit_Price__for_item_             0.215470         0.191586         0.066702   \n",
       "\n",
       "                                Total_Amount_Paid_for_Products  \\\n",
       "Order_Number                                         -0.004378   \n",
       "Total_Amount_Paid_For_Order                           0.330306   \n",
       "Tax_Amount                                            0.307311   \n",
       "Shipping_Amount                                       0.190827   \n",
       "Discount_Amount                                       0.162266   \n",
       "Total_Amount_Paid_for_Products                        1.000000   \n",
       "Product_SKU_Number                                    0.049844   \n",
       "Number_of_Items_Purchased                             0.339968   \n",
       "Unit_Price__for_item_                                 0.807162   \n",
       "\n",
       "                                Product_SKU_Number  Number_of_Items_Purchased  \\\n",
       "Order_Number                             -0.039776                  -0.005259   \n",
       "Total_Amount_Paid_For_Order              -0.024403                   0.169641   \n",
       "Tax_Amount                               -0.024984                   0.177526   \n",
       "Shipping_Amount                          -0.028145                   0.054063   \n",
       "Discount_Amount                          -0.005882                   0.154022   \n",
       "Total_Amount_Paid_for_Products            0.049844                   0.339968   \n",
       "Product_SKU_Number                        1.000000                  -0.012722   \n",
       "Number_of_Items_Purchased                -0.012722                   1.000000   \n",
       "Unit_Price__for_item_                     0.064558                  -0.043861   \n",
       "\n",
       "                                Unit_Price__for_item_  \n",
       "Order_Number                                -0.000097  \n",
       "Total_Amount_Paid_For_Order                  0.245015  \n",
       "Tax_Amount                                   0.215470  \n",
       "Shipping_Amount                              0.191586  \n",
       "Discount_Amount                              0.066702  \n",
       "Total_Amount_Paid_for_Products               0.807162  \n",
       "Product_SKU_Number                           0.064558  \n",
       "Number_of_Items_Purchased                   -0.043861  \n",
       "Unit_Price__for_item_                        1.000000  "
      ]
     },
     "execution_count": 7,
     "metadata": {},
     "output_type": "execute_result"
    }
   ],
   "source": [
    "data.corr()"
   ]
  },
  {
   "cell_type": "markdown",
   "metadata": {},
   "source": [
    "<a id=\"7\"></a> <br>\n",
    "# Correlation map\n",
    "seaborn.heatmap() plots rectangular data as a color-encoded matrix. This is an Axes-level function and will draw the heatmap into the currently-active Axes if none is provided to the ax argument. Part of this Axes space will be taken and used to plot a colormap, unless cbar is False or a separate Axes is provided to cbar_ax."
   ]
  },
  {
   "cell_type": "code",
   "execution_count": 8,
   "metadata": {
    "collapsed": false
   },
   "outputs": [
    {
     "data": {
      "image/png": "[encoded data removed]",
      "text/plain": [
       "<Figure size 800x800 with 2 Axes>"
      ]
     },
     "metadata": {},
     "output_type": "display_data"
    }
   ],
   "source": [
    "f,ax = plt.subplots(figsize=(8, 8))\n",
    "sns.heatmap(data.corr(), annot=True, linewidths=.5, fmt= '.1f',ax=ax)\n",
    "plt.show()"
   ]
  },
  {
   "cell_type": "markdown",
   "metadata": {},
   "source": [
    "<a id=\"8\"></a> <br>\n",
    "# Cluster map\n",
    "seaborn.clustermap() Plots a matrix dataset as a hierarchically-clustered heatmap. It allows you to visualise the structure of your entities (dendrogram), and to understand if this structure is logical (heatmap)."
   ]
  },
  {
   "cell_type": "code",
   "execution_count": 9,
   "metadata": {
    "collapsed": false
   },
   "outputs": [
    {
     "data": {
      "image/png": "[encoded data removed]",
      "text/plain": [
       "<Figure size 1000x1000 with 4 Axes>"
      ]
     },
     "metadata": {},
     "output_type": "display_data"
    }
   ],
   "source": [
    "sns.clustermap(data.corr(), annot=True)\n",
    "plt.show()"
   ]
  },
  {
   "cell_type": "markdown",
   "metadata": {},
   "source": [
    "<a id=\"9\"></a> <br>\n",
    "### Plot target columns\n",
    "Matplot is a python library that help us to plot data. The easiest and basic plots are line, scatter and histogram plots.\n",
    "* Line plot is better when x axis is time.\n",
    "* Scatter is better when there is correlation between two variables\n",
    "* Histogram is better when we need to see distribution of numerical data.\n",
    "* Customization: Colors,labels,thickness of line, title, opacity, grid, figsize, ticks of axis and linestyle  "
   ]
  },
  {
   "cell_type": "code",
   "execution_count": 10,
   "metadata": {
    "collapsed": false
   },
   "outputs": [
    {
     "data": {
      "image/png": "[encoded data removed]",
      "text/plain": [
       "<Figure size 600x400 with 1 Axes>"
      ]
     },
     "metadata": {},
     "output_type": "display_data"
    }
   ],
   "source": [
    "# Line Plot\n",
    "# color = color, label = label, linewidth = width of line, alpha = opacity, grid = grid, linestyle = sytle of line\n",
    "data.head(1000).Number_of_Items_Purchased.plot(kind = 'line', color = 'g',label = 'Number_of_Items_Purchased',linewidth=1,alpha = 0.5,grid = True,linestyle = ':')\n",
    "data.head(1000).Total_Amount_Paid_For_Order.plot(color = 'r',label = 'Total_Amount_Paid_For_Order',linewidth=1, alpha = 0.5,grid = True,linestyle = '-.')\n",
    "plt.legend(loc='upper right')     # legend = puts label into plot\n",
    "plt.xlabel('x axis')              # label = name of label\n",
    "plt.ylabel('y axis')\n",
    "plt.title('Line Plot')            # title = title of plot\n",
    "plt.show()"
   ]
  },
  {
   "cell_type": "markdown",
   "metadata": {},
   "source": [
    "# jointplot for paid for order and Tax amount\n",
    "<a id=\"46\"></a> <br>\n",
    "jointplot() allows us to basically match up two distplots for bivariate data. With your choice of what **kind** parameter to compare with: \n",
    "* “scatter” \n",
    "* “reg” \n",
    "* “resid” \n",
    "* “kde” \n",
    "* “hex”"
   ]
  },
  {
   "cell_type": "code",
   "execution_count": 11,
   "metadata": {
    "collapsed": false
   },
   "outputs": [
    {
     "data": {
      "text/plain": [
       "<seaborn.axisgrid.JointGrid at 0x1d78f668>"
      ]
     },
     "execution_count": 11,
     "metadata": {},
     "output_type": "execute_result"
    },
    {
     "data": {
      "image/png": "[encoded data removed]",
      "text/plain": [
       "<Figure size 600x600 with 3 Axes>"
      ]
     },
     "metadata": {},
     "output_type": "display_data"
    }
   ],
   "source": [
    "# dataCopy = data.copy()\n",
    "# dataCopy = dataCopy.dropna()\n",
    "# sns.distplot(dataCopy['Total_Amount_Paid_For_Order'],kde=False)\n",
    "\n",
    "dataPaidLe100 = data[data['Total_Amount_Paid_For_Order'] <= 100] # Removing outliers\n",
    "dataPaidLe100 = dataPaidLe100[dataPaidLe100['Tax_Amount'] <= 10] # Removing outliers\n",
    "sns.jointplot(x='Total_Amount_Paid_For_Order',y='Tax_Amount', extent=[0,100,0,10], data=dataPaidLe100,kind='hex')"
   ]
  },
  {
   "cell_type": "markdown",
   "metadata": {},
   "source": [
    "<a id=\"11\"></a> <br>\n",
    "# Summaries"
   ]
  },
  {
   "cell_type": "markdown",
   "metadata": {},
   "source": [
    "<a id=\"10\"></a> <br>\n",
    "# Reduce size of DataFrame\n",
    "First, we examine the columns in our data and make sure their labels intuitively convey what they represent. You can selects the required order data columns to reduce its size and then change the columns' names for convenience."
   ]
  },
  {
   "cell_type": "code",
   "execution_count": 12,
   "metadata": {
    "collapsed": false
   },
   "outputs": [
    {
     "data": {
      "text/html": [
       "<div>\n",
       "<style scoped>\n",
       "    .dataframe tbody tr th:only-of-type {\n",
       "        vertical-align: middle;\n",
       "    }\n",
       "\n",
       "    .dataframe tbody tr th {\n",
       "        vertical-align: top;\n",
       "    }\n",
       "\n",
       "    .dataframe thead th {\n",
       "        text-align: right;\n",
       "    }\n",
       "</style>\n",
       "<table border=\"1\" class=\"dataframe\">\n",
       "  <thead>\n",
       "    <tr style=\"text-align: right;\">\n",
       "      <th></th>\n",
       "      <th>DAY</th>\n",
       "      <th>LOC</th>\n",
       "      <th>QTY</th>\n",
       "      <th>SKUIDs</th>\n",
       "      <th>orNo</th>\n",
       "    </tr>\n",
       "  </thead>\n",
       "  <tbody>\n",
       "    <tr>\n",
       "      <th>0</th>\n",
       "      <td>2018-09-13</td>\n",
       "      <td>CO</td>\n",
       "      <td>250</td>\n",
       "      <td>132324</td>\n",
       "      <td>502371350</td>\n",
       "    </tr>\n",
       "    <tr>\n",
       "      <th>1</th>\n",
       "      <td>2018-02-22</td>\n",
       "      <td>PA</td>\n",
       "      <td>200</td>\n",
       "      <td>7265432</td>\n",
       "      <td>502101444</td>\n",
       "    </tr>\n",
       "    <tr>\n",
       "      <th>2</th>\n",
       "      <td>2018-06-14</td>\n",
       "      <td>GA</td>\n",
       "      <td>198</td>\n",
       "      <td>1279496</td>\n",
       "      <td>502194695</td>\n",
       "    </tr>\n",
       "    <tr>\n",
       "      <th>3</th>\n",
       "      <td>2018-07-24</td>\n",
       "      <td>CA</td>\n",
       "      <td>172</td>\n",
       "      <td>1109818</td>\n",
       "      <td>502247560</td>\n",
       "    </tr>\n",
       "    <tr>\n",
       "      <th>4</th>\n",
       "      <td>2018-02-22</td>\n",
       "      <td>PA</td>\n",
       "      <td>167</td>\n",
       "      <td>7313216</td>\n",
       "      <td>502101444</td>\n",
       "    </tr>\n",
       "  </tbody>\n",
       "</table>\n",
       "</div>"
      ],
      "text/plain": [
       "         DAY LOC  QTY   SKUIDs       orNo\n",
       "0 2018-09-13  CO  250   132324  502371350\n",
       "1 2018-02-22  PA  200  7265432  502101444\n",
       "2 2018-06-14  GA  198  1279496  502194695\n",
       "3 2018-07-24  CA  172  1109818  502247560\n",
       "4 2018-02-22  PA  167  7313216  502101444"
      ]
     },
     "execution_count": 12,
     "metadata": {},
     "output_type": "execute_result"
    }
   ],
   "source": [
    "df = pd.DataFrame({'SKUIDs': data.Product_SKU_Number, 'QTY': data.Number_of_Items_Purchased, 'DAY': data.Trunc__Date, 'orNo': data.Order_Number, 'LOC':data.State})\n",
    "df['DAY'] = df['DAY'].astype(\"datetime64\")\n",
    "df.head()"
   ]
  },
  {
   "cell_type": "markdown",
   "metadata": {},
   "source": [
    "<a id=\"12\"></a> <br>\n",
    "# SKU Summary"
   ]
  },
  {
   "cell_type": "code",
   "execution_count": 13,
   "metadata": {
    "collapsed": false
   },
   "outputs": [
    {
     "data": {
      "text/html": [
       "<div>\n",
       "<style scoped>\n",
       "    .dataframe tbody tr th:only-of-type {\n",
       "        vertical-align: middle;\n",
       "    }\n",
       "\n",
       "    .dataframe tbody tr th {\n",
       "        vertical-align: top;\n",
       "    }\n",
       "\n",
       "    .dataframe thead th {\n",
       "        text-align: right;\n",
       "    }\n",
       "</style>\n",
       "<table border=\"1\" class=\"dataframe\">\n",
       "  <thead>\n",
       "    <tr style=\"text-align: right;\">\n",
       "      <th></th>\n",
       "      <th>Lines</th>\n",
       "      <th>QTYs</th>\n",
       "      <th>DaysHit</th>\n",
       "      <th>Orders</th>\n",
       "    </tr>\n",
       "    <tr>\n",
       "      <th>SKUIDs</th>\n",
       "      <th></th>\n",
       "      <th></th>\n",
       "      <th></th>\n",
       "      <th></th>\n",
       "    </tr>\n",
       "  </thead>\n",
       "  <tbody>\n",
       "    <tr>\n",
       "      <th>10769</th>\n",
       "      <td>151</td>\n",
       "      <td>165</td>\n",
       "      <td>73</td>\n",
       "      <td>151</td>\n",
       "    </tr>\n",
       "    <tr>\n",
       "      <th>11627</th>\n",
       "      <td>112</td>\n",
       "      <td>212</td>\n",
       "      <td>81</td>\n",
       "      <td>112</td>\n",
       "    </tr>\n",
       "    <tr>\n",
       "      <th>12468</th>\n",
       "      <td>45</td>\n",
       "      <td>51</td>\n",
       "      <td>28</td>\n",
       "      <td>45</td>\n",
       "    </tr>\n",
       "    <tr>\n",
       "      <th>16964</th>\n",
       "      <td>41</td>\n",
       "      <td>41</td>\n",
       "      <td>24</td>\n",
       "      <td>41</td>\n",
       "    </tr>\n",
       "    <tr>\n",
       "      <th>16972</th>\n",
       "      <td>11</td>\n",
       "      <td>11</td>\n",
       "      <td>10</td>\n",
       "      <td>11</td>\n",
       "    </tr>\n",
       "    <tr>\n",
       "      <th>16980</th>\n",
       "      <td>41</td>\n",
       "      <td>41</td>\n",
       "      <td>25</td>\n",
       "      <td>41</td>\n",
       "    </tr>\n",
       "    <tr>\n",
       "      <th>17012</th>\n",
       "      <td>13</td>\n",
       "      <td>13</td>\n",
       "      <td>10</td>\n",
       "      <td>13</td>\n",
       "    </tr>\n",
       "    <tr>\n",
       "      <th>17913</th>\n",
       "      <td>1</td>\n",
       "      <td>1</td>\n",
       "      <td>1</td>\n",
       "      <td>1</td>\n",
       "    </tr>\n",
       "    <tr>\n",
       "      <th>17921</th>\n",
       "      <td>7</td>\n",
       "      <td>18</td>\n",
       "      <td>7</td>\n",
       "      <td>7</td>\n",
       "    </tr>\n",
       "    <tr>\n",
       "      <th>20461</th>\n",
       "      <td>6</td>\n",
       "      <td>6</td>\n",
       "      <td>6</td>\n",
       "      <td>6</td>\n",
       "    </tr>\n",
       "  </tbody>\n",
       "</table>\n",
       "</div>"
      ],
      "text/plain": [
       "        Lines  QTYs  DaysHit  Orders\n",
       "SKUIDs                              \n",
       "10769     151   165       73     151\n",
       "11627     112   212       81     112\n",
       "12468      45    51       28      45\n",
       "16964      41    41       24      41\n",
       "16972      11    11       10      11\n",
       "16980      41    41       25      41\n",
       "17012      13    13       10      13\n",
       "17913       1     1        1       1\n",
       "17921       7    18        7       7\n",
       "20461       6     6        6       6"
      ]
     },
     "execution_count": 13,
     "metadata": {},
     "output_type": "execute_result"
    }
   ],
   "source": [
    "bySKU = pd.DataFrame(df.groupby(['SKUIDs'])['orNo'].count())\n",
    "bySKU = bySKU.rename(columns={'orNo':'Lines'})\n",
    "bySKU['QTYs'] = df.groupby(['SKUIDs'])['QTY'].sum()\n",
    "# Find |daysHit|********************************************************************************************************\n",
    "bySKU['DaysHit'] = df.groupby(['SKUIDs'])['DAY'].nunique()\n",
    "# Find |orders|********************************************************************************************************\n",
    "bySKU['Orders'] = df.groupby(['SKUIDs'])['orNo'].nunique()\n",
    "bySKU.head(10)"
   ]
  },
  {
   "cell_type": "markdown",
   "metadata": {},
   "source": [
    "<a id=\"13\"></a> <br>\n",
    "# Order Summary by Date"
   ]
  },
  {
   "cell_type": "code",
   "execution_count": 14,
   "metadata": {
    "collapsed": false
   },
   "outputs": [
    {
     "data": {
      "text/html": [
       "<div>\n",
       "<style scoped>\n",
       "    .dataframe tbody tr th:only-of-type {\n",
       "        vertical-align: middle;\n",
       "    }\n",
       "\n",
       "    .dataframe tbody tr th {\n",
       "        vertical-align: top;\n",
       "    }\n",
       "\n",
       "    .dataframe thead th {\n",
       "        text-align: right;\n",
       "    }\n",
       "</style>\n",
       "<table border=\"1\" class=\"dataframe\">\n",
       "  <thead>\n",
       "    <tr style=\"text-align: right;\">\n",
       "      <th></th>\n",
       "      <th>TotalOrders</th>\n",
       "      <th>TotalSKUs</th>\n",
       "      <th>TotalLines</th>\n",
       "      <th>TotalQTY</th>\n",
       "    </tr>\n",
       "    <tr>\n",
       "      <th>DAY</th>\n",
       "      <th></th>\n",
       "      <th></th>\n",
       "      <th></th>\n",
       "      <th></th>\n",
       "    </tr>\n",
       "  </thead>\n",
       "  <tbody>\n",
       "    <tr>\n",
       "      <th>2018-02-04</th>\n",
       "      <td>1071</td>\n",
       "      <td>1492</td>\n",
       "      <td>2195</td>\n",
       "      <td>2314</td>\n",
       "    </tr>\n",
       "    <tr>\n",
       "      <th>2018-02-05</th>\n",
       "      <td>1203</td>\n",
       "      <td>1752</td>\n",
       "      <td>2673</td>\n",
       "      <td>2871</td>\n",
       "    </tr>\n",
       "    <tr>\n",
       "      <th>2018-02-06</th>\n",
       "      <td>1146</td>\n",
       "      <td>1479</td>\n",
       "      <td>2211</td>\n",
       "      <td>2479</td>\n",
       "    </tr>\n",
       "    <tr>\n",
       "      <th>2018-02-07</th>\n",
       "      <td>1290</td>\n",
       "      <td>1708</td>\n",
       "      <td>2645</td>\n",
       "      <td>2821</td>\n",
       "    </tr>\n",
       "    <tr>\n",
       "      <th>2018-02-08</th>\n",
       "      <td>1116</td>\n",
       "      <td>1553</td>\n",
       "      <td>2350</td>\n",
       "      <td>2500</td>\n",
       "    </tr>\n",
       "    <tr>\n",
       "      <th>2018-02-09</th>\n",
       "      <td>1121</td>\n",
       "      <td>1631</td>\n",
       "      <td>2358</td>\n",
       "      <td>2608</td>\n",
       "    </tr>\n",
       "    <tr>\n",
       "      <th>2018-02-10</th>\n",
       "      <td>1036</td>\n",
       "      <td>1479</td>\n",
       "      <td>2124</td>\n",
       "      <td>2264</td>\n",
       "    </tr>\n",
       "    <tr>\n",
       "      <th>2018-02-11</th>\n",
       "      <td>1334</td>\n",
       "      <td>1844</td>\n",
       "      <td>2818</td>\n",
       "      <td>3001</td>\n",
       "    </tr>\n",
       "    <tr>\n",
       "      <th>2018-02-12</th>\n",
       "      <td>1210</td>\n",
       "      <td>1817</td>\n",
       "      <td>2600</td>\n",
       "      <td>2839</td>\n",
       "    </tr>\n",
       "    <tr>\n",
       "      <th>2018-02-13</th>\n",
       "      <td>941</td>\n",
       "      <td>1356</td>\n",
       "      <td>1932</td>\n",
       "      <td>2154</td>\n",
       "    </tr>\n",
       "  </tbody>\n",
       "</table>\n",
       "</div>"
      ],
      "text/plain": [
       "            TotalOrders  TotalSKUs  TotalLines  TotalQTY\n",
       "DAY                                                     \n",
       "2018-02-04         1071       1492        2195      2314\n",
       "2018-02-05         1203       1752        2673      2871\n",
       "2018-02-06         1146       1479        2211      2479\n",
       "2018-02-07         1290       1708        2645      2821\n",
       "2018-02-08         1116       1553        2350      2500\n",
       "2018-02-09         1121       1631        2358      2608\n",
       "2018-02-10         1036       1479        2124      2264\n",
       "2018-02-11         1334       1844        2818      3001\n",
       "2018-02-12         1210       1817        2600      2839\n",
       "2018-02-13          941       1356        1932      2154"
      ]
     },
     "execution_count": 14,
     "metadata": {},
     "output_type": "execute_result"
    }
   ],
   "source": [
    "byDate = pd.DataFrame(df.groupby(['DAY'])['orNo'].nunique())\n",
    "byDate.columns = ['TotalOrders']\n",
    "byDate['TotalSKUs'] = df.groupby(['DAY'])['SKUIDs'].nunique()\n",
    "byDate['TotalLines'] = df.groupby(['DAY'])['orNo'].size()\n",
    "byDate['TotalQTY'] = df.groupby(['DAY'])['QTY'].sum()\n",
    "byDate.head(10)"
   ]
  },
  {
   "cell_type": "markdown",
   "metadata": {},
   "source": [
    "<a id=\"14\"></a> <br>\n",
    "# Bar chart for orders per week"
   ]
  },
  {
   "cell_type": "code",
   "execution_count": 15,
   "metadata": {
    "collapsed": false
   },
   "outputs": [
    {
     "data": {
      "text/plain": [
       "Text(0, 0.5, 'Total orders')"
      ]
     },
     "execution_count": 15,
     "metadata": {},
     "output_type": "execute_result"
    },
    {
     "data": {
      "image/png": "[encoded data removed]",
      "text/plain": [
       "<Figure size 1800x600 with 1 Axes>"
      ]
     },
     "metadata": {},
     "output_type": "display_data"
    }
   ],
   "source": [
    "byDate.reset_index(level=0, inplace=True)\n",
    "dfBarByWeek = byDate.groupby([pd.Grouper(freq='1W',key='DAY')])['TotalOrders'].sum()\n",
    "dfBarByWeek.plot(kind = \"bar\",y = \"TotalOrders\", figsize = (18,6))\n",
    "plt.xlabel('Week', fontsize=18)\n",
    "plt.ylabel('Total orders', fontsize=16)"
   ]
  },
  {
   "cell_type": "markdown",
   "metadata": {},
   "source": [
    "<a id=\"15\"></a> <br>\n",
    "# Find Peak Day"
   ]
  },
  {
   "cell_type": "code",
   "execution_count": 16,
   "metadata": {
    "collapsed": false
   },
   "outputs": [
    {
     "data": {
      "text/plain": [
       "DAY\n",
       "2018-10-21    17293\n",
       "Name: TotalOrders, dtype: int64"
      ]
     },
     "execution_count": 16,
     "metadata": {},
     "output_type": "execute_result"
    }
   ],
   "source": [
    "dfBarByDay = byDate.groupby([pd.Grouper(freq='1D',key='DAY')])['TotalOrders'].sum()\n",
    "maxOrders = byDate.groupby([pd.Grouper(freq='1D',key='DAY')])['TotalOrders'].sum().max()\n",
    "PeakDay = dfBarByDay[np.where(dfBarByDay == maxOrders)[0]]\n",
    "PeakDay"
   ]
  },
  {
   "cell_type": "markdown",
   "metadata": {},
   "source": [
    "<a id=\"47\"></a> <br>\n",
    "# Unique SKUs per week"
   ]
  },
  {
   "cell_type": "code",
   "execution_count": 17,
   "metadata": {
    "collapsed": false
   },
   "outputs": [
    {
     "data": {
      "text/plain": [
       "Text(0, 0.5, 'Count')"
      ]
     },
     "execution_count": 17,
     "metadata": {},
     "output_type": "execute_result"
    },
    {
     "data": {
      "image/png": "[encoded data removed]",
      "text/plain": [
       "<Figure size 1800x600 with 1 Axes>"
      ]
     },
     "metadata": {},
     "output_type": "display_data"
    }
   ],
   "source": [
    "dfOrderSKU = pd.DataFrame()\n",
    "dfOrderSKU['TotalOrders'] = byDate.groupby([pd.Grouper(freq='1W',key='DAY')])['TotalOrders'].sum()\n",
    "dfOrderSKU['TotalSKUs'] = byDate.groupby([pd.Grouper(freq='1W',key='DAY')])['TotalSKUs'].sum()\n",
    "dfOrderSKU.plot(kind = \"bar\",y = [\"TotalSKUs\",'TotalOrders'], figsize = (18,6))\n",
    "plt.xlabel('Week', fontsize=18)\n",
    "plt.ylabel('Count', fontsize=16)"
   ]
  },
  {
   "cell_type": "markdown",
   "metadata": {},
   "source": [
    "<a id=\"16\"></a> <br>\n",
    "# Location Summary"
   ]
  },
  {
   "cell_type": "code",
   "execution_count": 18,
   "metadata": {
    "collapsed": false
   },
   "outputs": [
    {
     "data": {
      "text/html": [
       "<div>\n",
       "<style scoped>\n",
       "    .dataframe tbody tr th:only-of-type {\n",
       "        vertical-align: middle;\n",
       "    }\n",
       "\n",
       "    .dataframe tbody tr th {\n",
       "        vertical-align: top;\n",
       "    }\n",
       "\n",
       "    .dataframe thead th {\n",
       "        text-align: right;\n",
       "    }\n",
       "</style>\n",
       "<table border=\"1\" class=\"dataframe\">\n",
       "  <thead>\n",
       "    <tr style=\"text-align: right;\">\n",
       "      <th></th>\n",
       "      <th>TotalOrders</th>\n",
       "      <th>TotalSKUs</th>\n",
       "      <th>TotalLines</th>\n",
       "      <th>TotalQTY</th>\n",
       "    </tr>\n",
       "    <tr>\n",
       "      <th>LOC</th>\n",
       "      <th></th>\n",
       "      <th></th>\n",
       "      <th></th>\n",
       "      <th></th>\n",
       "    </tr>\n",
       "  </thead>\n",
       "  <tbody>\n",
       "    <tr>\n",
       "      <th>-</th>\n",
       "      <td>1</td>\n",
       "      <td>1</td>\n",
       "      <td>1</td>\n",
       "      <td>1</td>\n",
       "    </tr>\n",
       "    <tr>\n",
       "      <th>AA</th>\n",
       "      <td>12</td>\n",
       "      <td>34</td>\n",
       "      <td>35</td>\n",
       "      <td>40</td>\n",
       "    </tr>\n",
       "    <tr>\n",
       "      <th>AB</th>\n",
       "      <td>2767</td>\n",
       "      <td>4036</td>\n",
       "      <td>5924</td>\n",
       "      <td>6509</td>\n",
       "    </tr>\n",
       "    <tr>\n",
       "      <th>AE</th>\n",
       "      <td>226</td>\n",
       "      <td>451</td>\n",
       "      <td>520</td>\n",
       "      <td>546</td>\n",
       "    </tr>\n",
       "    <tr>\n",
       "      <th>AK</th>\n",
       "      <td>1418</td>\n",
       "      <td>2447</td>\n",
       "      <td>3344</td>\n",
       "      <td>3574</td>\n",
       "    </tr>\n",
       "    <tr>\n",
       "      <th>AL</th>\n",
       "      <td>9728</td>\n",
       "      <td>8724</td>\n",
       "      <td>18329</td>\n",
       "      <td>19888</td>\n",
       "    </tr>\n",
       "    <tr>\n",
       "      <th>AP</th>\n",
       "      <td>294</td>\n",
       "      <td>603</td>\n",
       "      <td>670</td>\n",
       "      <td>710</td>\n",
       "    </tr>\n",
       "    <tr>\n",
       "      <th>AR</th>\n",
       "      <td>5363</td>\n",
       "      <td>5745</td>\n",
       "      <td>10085</td>\n",
       "      <td>10750</td>\n",
       "    </tr>\n",
       "    <tr>\n",
       "      <th>AS</th>\n",
       "      <td>6</td>\n",
       "      <td>10</td>\n",
       "      <td>10</td>\n",
       "      <td>10</td>\n",
       "    </tr>\n",
       "    <tr>\n",
       "      <th>AZ</th>\n",
       "      <td>17318</td>\n",
       "      <td>12342</td>\n",
       "      <td>32959</td>\n",
       "      <td>36465</td>\n",
       "    </tr>\n",
       "    <tr>\n",
       "      <th>Alberta</th>\n",
       "      <td>75</td>\n",
       "      <td>176</td>\n",
       "      <td>182</td>\n",
       "      <td>202</td>\n",
       "    </tr>\n",
       "    <tr>\n",
       "      <th>BC</th>\n",
       "      <td>2447</td>\n",
       "      <td>3516</td>\n",
       "      <td>5016</td>\n",
       "      <td>5637</td>\n",
       "    </tr>\n",
       "    <tr>\n",
       "      <th>British Columbia</th>\n",
       "      <td>42</td>\n",
       "      <td>93</td>\n",
       "      <td>95</td>\n",
       "      <td>101</td>\n",
       "    </tr>\n",
       "    <tr>\n",
       "      <th>BritishColumbia</th>\n",
       "      <td>1</td>\n",
       "      <td>1</td>\n",
       "      <td>1</td>\n",
       "      <td>1</td>\n",
       "    </tr>\n",
       "    <tr>\n",
       "      <th>CA</th>\n",
       "      <td>100064</td>\n",
       "      <td>25246</td>\n",
       "      <td>187782</td>\n",
       "      <td>208733</td>\n",
       "    </tr>\n",
       "  </tbody>\n",
       "</table>\n",
       "</div>"
      ],
      "text/plain": [
       "                  TotalOrders  TotalSKUs  TotalLines  TotalQTY\n",
       "LOC                                                           \n",
       "-                           1          1           1         1\n",
       "AA                         12         34          35        40\n",
       "AB                       2767       4036        5924      6509\n",
       "AE                        226        451         520       546\n",
       "AK                       1418       2447        3344      3574\n",
       "AL                       9728       8724       18329     19888\n",
       "AP                        294        603         670       710\n",
       "AR                       5363       5745       10085     10750\n",
       "AS                          6         10          10        10\n",
       "AZ                      17318      12342       32959     36465\n",
       "Alberta                    75        176         182       202\n",
       "BC                       2447       3516        5016      5637\n",
       "British Columbia           42         93          95       101\n",
       "BritishColumbia             1          1           1         1\n",
       "CA                     100064      25246      187782    208733"
      ]
     },
     "execution_count": 18,
     "metadata": {},
     "output_type": "execute_result"
    }
   ],
   "source": [
    "byLoc = pd.DataFrame(df.groupby(['LOC'])['orNo'].nunique())\n",
    "byLoc.columns = ['TotalOrders']\n",
    "byLoc['TotalSKUs'] = df.groupby(['LOC'])['SKUIDs'].nunique()\n",
    "byLoc['TotalLines'] = df.groupby(['LOC'])['orNo'].size()\n",
    "byLoc['TotalQTY'] = df.groupby(['LOC'])['QTY'].sum()\n",
    "byLoc.head(15)"
   ]
  },
  {
   "cell_type": "markdown",
   "metadata": {},
   "source": [
    "<a id=\"17\"></a> <br>\n",
    "# Histogram of orders by location (state)"
   ]
  },
  {
   "cell_type": "code",
   "execution_count": 19,
   "metadata": {
    "collapsed": false
   },
   "outputs": [
    {
     "data": {
      "text/plain": [
       "Text(0, 0.5, 'Total orders')"
      ]
     },
     "execution_count": 19,
     "metadata": {},
     "output_type": "execute_result"
    },
    {
     "data": {
      "image/png": "[encoded data removed]",
      "text/plain": [
       "<Figure size 2200x600 with 1 Axes>"
      ]
     },
     "metadata": {},
     "output_type": "display_data"
    }
   ],
   "source": [
    "# byLoc.plot(kind = \"hist\",y = \"TotalOrders\")\n",
    "byLoc.plot(kind = \"bar\",y = \"TotalOrders\", figsize = (22,6))\n",
    "plt.xlabel('State', fontsize=18)\n",
    "plt.ylabel('Total orders', fontsize=16)"
   ]
  },
  {
   "cell_type": "code",
   "execution_count": 20,
   "metadata": {
    "collapsed": false
   },
   "outputs": [
    {
     "data": {
      "text/html": [
       "<div>\n",
       "<style scoped>\n",
       "    .dataframe tbody tr th:only-of-type {\n",
       "        vertical-align: middle;\n",
       "    }\n",
       "\n",
       "    .dataframe tbody tr th {\n",
       "        vertical-align: top;\n",
       "    }\n",
       "\n",
       "    .dataframe thead th {\n",
       "        text-align: right;\n",
       "    }\n",
       "</style>\n",
       "<table border=\"1\" class=\"dataframe\">\n",
       "  <thead>\n",
       "    <tr style=\"text-align: right;\">\n",
       "      <th></th>\n",
       "      <th>TotalOrders</th>\n",
       "      <th>TotalSKUs</th>\n",
       "      <th>TotalLines</th>\n",
       "      <th>TotalQTY</th>\n",
       "    </tr>\n",
       "    <tr>\n",
       "      <th>LOC</th>\n",
       "      <th></th>\n",
       "      <th></th>\n",
       "      <th></th>\n",
       "      <th></th>\n",
       "    </tr>\n",
       "  </thead>\n",
       "  <tbody>\n",
       "    <tr>\n",
       "      <th>TN</th>\n",
       "      <td>14252</td>\n",
       "      <td>10694</td>\n",
       "      <td>26850</td>\n",
       "      <td>29021</td>\n",
       "    </tr>\n",
       "  </tbody>\n",
       "</table>\n",
       "</div>"
      ],
      "text/plain": [
       "     TotalOrders  TotalSKUs  TotalLines  TotalQTY\n",
       "LOC                                              \n",
       "TN         14252      10694       26850     29021"
      ]
     },
     "execution_count": 20,
     "metadata": {},
     "output_type": "execute_result"
    }
   ],
   "source": [
    "ind = byLoc.index\n",
    "byLocTN = byLoc[ind.str.contains('TN', regex=False)]\n",
    "byLocTN.head(10)"
   ]
  },
  {
   "cell_type": "markdown",
   "metadata": {
    "collapsed": true
   },
   "source": [
    "<a id=\"28\"></a> <br>\n",
    "## Order/SKUs distribution in geographical map\n",
    "We need Latitude and Longitude data for USA states:"
   ]
  },
  {
   "cell_type": "code",
   "execution_count": 21,
   "metadata": {
    "collapsed": false
   },
   "outputs": [
    {
     "data": {
      "text/html": [
       "<div>\n",
       "<style scoped>\n",
       "    .dataframe tbody tr th:only-of-type {\n",
       "        vertical-align: middle;\n",
       "    }\n",
       "\n",
       "    .dataframe tbody tr th {\n",
       "        vertical-align: top;\n",
       "    }\n",
       "\n",
       "    .dataframe thead th {\n",
       "        text-align: right;\n",
       "    }\n",
       "</style>\n",
       "<table border=\"1\" class=\"dataframe\">\n",
       "  <thead>\n",
       "    <tr style=\"text-align: right;\">\n",
       "      <th></th>\n",
       "      <th>State</th>\n",
       "      <th>Latitude</th>\n",
       "      <th>Longitude</th>\n",
       "      <th>City</th>\n",
       "    </tr>\n",
       "  </thead>\n",
       "  <tbody>\n",
       "    <tr>\n",
       "      <th>0</th>\n",
       "      <td>AL</td>\n",
       "      <td>32.601011</td>\n",
       "      <td>-86.680736</td>\n",
       "      <td>Alabama</td>\n",
       "    </tr>\n",
       "    <tr>\n",
       "      <th>1</th>\n",
       "      <td>AK</td>\n",
       "      <td>61.302501</td>\n",
       "      <td>-158.775020</td>\n",
       "      <td>Alaska</td>\n",
       "    </tr>\n",
       "    <tr>\n",
       "      <th>2</th>\n",
       "      <td>AZ</td>\n",
       "      <td>34.168219</td>\n",
       "      <td>-111.930907</td>\n",
       "      <td>Arizona</td>\n",
       "    </tr>\n",
       "    <tr>\n",
       "      <th>3</th>\n",
       "      <td>AR</td>\n",
       "      <td>34.751928</td>\n",
       "      <td>-92.131378</td>\n",
       "      <td>Arkansas</td>\n",
       "    </tr>\n",
       "    <tr>\n",
       "      <th>4</th>\n",
       "      <td>CA</td>\n",
       "      <td>37.271875</td>\n",
       "      <td>-119.270415</td>\n",
       "      <td>California</td>\n",
       "    </tr>\n",
       "  </tbody>\n",
       "</table>\n",
       "</div>"
      ],
      "text/plain": [
       "  State   Latitude   Longitude        City\n",
       "0    AL  32.601011  -86.680736     Alabama\n",
       "1    AK  61.302501 -158.775020      Alaska\n",
       "2    AZ  34.168219 -111.930907     Arizona\n",
       "3    AR  34.751928  -92.131378    Arkansas\n",
       "4    CA  37.271875 -119.270415  California"
      ]
     },
     "execution_count": 21,
     "metadata": {},
     "output_type": "execute_result"
    }
   ],
   "source": [
    "statelatlong = pd.read_csv('C:/Users/Parvaneh.Jahani/Desktop/Spencer/statelatlong.csv')\n",
    "latLong = pd.DataFrame(statelatlong)\n",
    "latLong.head(5)"
   ]
  },
  {
   "cell_type": "markdown",
   "metadata": {},
   "source": [
    "We merge the Latitude and Longitude data with our byLoc dataFrame:"
   ]
  },
  {
   "cell_type": "code",
   "execution_count": 22,
   "metadata": {
    "collapsed": false
   },
   "outputs": [
    {
     "data": {
      "text/html": [
       "<div>\n",
       "<style scoped>\n",
       "    .dataframe tbody tr th:only-of-type {\n",
       "        vertical-align: middle;\n",
       "    }\n",
       "\n",
       "    .dataframe tbody tr th {\n",
       "        vertical-align: top;\n",
       "    }\n",
       "\n",
       "    .dataframe thead th {\n",
       "        text-align: right;\n",
       "    }\n",
       "</style>\n",
       "<table border=\"1\" class=\"dataframe\">\n",
       "  <thead>\n",
       "    <tr style=\"text-align: right;\">\n",
       "      <th></th>\n",
       "      <th>State</th>\n",
       "      <th>Latitude</th>\n",
       "      <th>Longitude</th>\n",
       "      <th>City</th>\n",
       "      <th>TotalOrders</th>\n",
       "      <th>TotalSKUs</th>\n",
       "      <th>TotalLines</th>\n",
       "      <th>TotalQTY</th>\n",
       "    </tr>\n",
       "  </thead>\n",
       "  <tbody>\n",
       "    <tr>\n",
       "      <th>0</th>\n",
       "      <td>AL</td>\n",
       "      <td>32.601011</td>\n",
       "      <td>-86.680736</td>\n",
       "      <td>Alabama</td>\n",
       "      <td>9728</td>\n",
       "      <td>8724</td>\n",
       "      <td>18329</td>\n",
       "      <td>19888</td>\n",
       "    </tr>\n",
       "    <tr>\n",
       "      <th>1</th>\n",
       "      <td>AK</td>\n",
       "      <td>61.302501</td>\n",
       "      <td>-158.775020</td>\n",
       "      <td>Alaska</td>\n",
       "      <td>1418</td>\n",
       "      <td>2447</td>\n",
       "      <td>3344</td>\n",
       "      <td>3574</td>\n",
       "    </tr>\n",
       "    <tr>\n",
       "      <th>2</th>\n",
       "      <td>AZ</td>\n",
       "      <td>34.168219</td>\n",
       "      <td>-111.930907</td>\n",
       "      <td>Arizona</td>\n",
       "      <td>17318</td>\n",
       "      <td>12342</td>\n",
       "      <td>32959</td>\n",
       "      <td>36465</td>\n",
       "    </tr>\n",
       "    <tr>\n",
       "      <th>3</th>\n",
       "      <td>AR</td>\n",
       "      <td>34.751928</td>\n",
       "      <td>-92.131378</td>\n",
       "      <td>Arkansas</td>\n",
       "      <td>5363</td>\n",
       "      <td>5745</td>\n",
       "      <td>10085</td>\n",
       "      <td>10750</td>\n",
       "    </tr>\n",
       "    <tr>\n",
       "      <th>4</th>\n",
       "      <td>CA</td>\n",
       "      <td>37.271875</td>\n",
       "      <td>-119.270415</td>\n",
       "      <td>California</td>\n",
       "      <td>100064</td>\n",
       "      <td>25246</td>\n",
       "      <td>187782</td>\n",
       "      <td>208733</td>\n",
       "    </tr>\n",
       "  </tbody>\n",
       "</table>\n",
       "</div>"
      ],
      "text/plain": [
       "  State   Latitude   Longitude        City  TotalOrders  TotalSKUs  \\\n",
       "0    AL  32.601011  -86.680736     Alabama         9728       8724   \n",
       "1    AK  61.302501 -158.775020      Alaska         1418       2447   \n",
       "2    AZ  34.168219 -111.930907     Arizona        17318      12342   \n",
       "3    AR  34.751928  -92.131378    Arkansas         5363       5745   \n",
       "4    CA  37.271875 -119.270415  California       100064      25246   \n",
       "\n",
       "   TotalLines  TotalQTY  \n",
       "0       18329     19888  \n",
       "1        3344      3574  \n",
       "2       32959     36465  \n",
       "3       10085     10750  \n",
       "4      187782    208733  "
      ]
     },
     "execution_count": 22,
     "metadata": {},
     "output_type": "execute_result"
    }
   ],
   "source": [
    "byLoc['State'] = byLoc.index\n",
    "mergedLatByLoc = pd.merge(latLong, byLoc, on='State', how='inner')\n",
    "mergedLatByLoc.head(5)"
   ]
  },
  {
   "cell_type": "markdown",
   "metadata": {},
   "source": [
    "## Choropleth USA Maps for total order"
   ]
  },
  {
   "cell_type": "code",
   "execution_count": 23,
   "metadata": {
    "collapsed": false
   },
   "outputs": [
    {
     "data": {
      "application/vnd.plotly.v1+json": {
       "data": [
        {
         "colorbar": {
          "title": "Total Orders"
         },
         "colorscale": "Portland",
         "locationmode": "USA-states",
         "locations": [
          "AL",
          "AK",
          "AZ",
          "AR",
          "CA",
          "CO",
          "CT",
          "DE",
          "DC",
          "FL",
          "GA",
          "HI",
          "ID",
          "IL",
          "IN",
          "IA",
          "KS",
          "KY",
          "LA",
          "ME",
          "MD",
          "MA",
          "MI",
          "MN",
          "MS",
          "MO",
          "MT",
          "NE",
          "NV",
          "NH",
          "NJ",
          "NM",
          "NY",
          "NC",
          "ND",
          "OH",
          "OK",
          "OR",
          "PA",
          "RI",
          "SC",
          "SD",
          "TN",
          "TX",
          "UT",
          "VT",
          "VA",
          "WA",
          "WV",
          "WI",
          "WY"
         ],
         "text": [
          "text1",
          "text2",
          "text3"
         ],
         "type": "choropleth",
         "z": [
          9728,
          1418,
          17318,
          5363,
          100064,
          15841,
          10021,
          2897,
          1561,
          54342,
          22667,
          2209,
          3149,
          37003,
          14599,
          6410,
          6423,
          11468,
          11432,
          3673,
          18607,
          21145,
          25105,
          10883,
          4856,
          14068,
          2294,
          4345,
          7805,
          4435,
          39047,
          4812,
          67476,
          21042,
          2061,
          31365,
          8097,
          8959,
          46600,
          3090,
          9669,
          1698,
          14252,
          65808,
          8527,
          1456,
          23217,
          15919,
          6688,
          11657,
          1791
         ]
        }
       ],
       "layout": {
        "geo": {
         "scope": "usa"
        }
       }
      },
      "text/html": [
       "<div id=\"2c4bef20-50c9-4600-a592-a179c0df6bc5\" style=\"height: 525px; width: 100%;\" class=\"plotly-graph-div\"></div><script type=\"text/javascript\">require([\"plotly\"], function(Plotly) { window.PLOTLYENV=window.PLOTLYENV || {};window.PLOTLYENV.BASE_URL=\"https://plot.ly\";Plotly.newPlot(\"2c4bef20-50c9-4600-a592-a179c0df6bc5\", [{\"type\": \"choropleth\", \"text\": [\"text1\", \"text2\", \"text3\"], \"colorbar\": {\"title\": \"Total Orders\"}, \"locations\": [\"AL\", \"AK\", \"AZ\", \"AR\", \"CA\", \"CO\", \"CT\", \"DE\", \"DC\", \"FL\", \"GA\", \"HI\", \"ID\", \"IL\", \"IN\", \"IA\", \"KS\", \"KY\", \"LA\", \"ME\", \"MD\", \"MA\", \"MI\", \"MN\", \"MS\", \"MO\", \"MT\", \"NE\", \"NV\", \"NH\", \"NJ\", \"NM\", \"NY\", \"NC\", \"ND\", \"OH\", \"OK\", \"OR\", \"PA\", \"RI\", \"SC\", \"SD\", \"TN\", \"TX\", \"UT\", \"VT\", \"VA\", \"WA\", \"WV\", \"WI\", \"WY\"], \"z\": [9728, 1418, 17318, 5363, 100064, 15841, 10021, 2897, 1561, 54342, 22667, 2209, 3149, 37003, 14599, 6410, 6423, 11468, 11432, 3673, 18607, 21145, 25105, 10883, 4856, 14068, 2294, 4345, 7805, 4435, 39047, 4812, 67476, 21042, 2061, 31365, 8097, 8959, 46600, 3090, 9669, 1698, 14252, 65808, 8527, 1456, 23217, 15919, 6688, 11657, 1791], \"colorscale\": \"Portland\", \"locationmode\": \"USA-states\"}], {\"geo\": {\"scope\": \"usa\"}}, {\"showLink\": true, \"linkText\": \"Export to plot.ly\"})});</script>"
      ],
      "text/vnd.plotly.v1+html": [
       "<div id=\"2c4bef20-50c9-4600-a592-a179c0df6bc5\" style=\"height: 525px; width: 100%;\" class=\"plotly-graph-div\"></div><script type=\"text/javascript\">require([\"plotly\"], function(Plotly) { window.PLOTLYENV=window.PLOTLYENV || {};window.PLOTLYENV.BASE_URL=\"https://plot.ly\";Plotly.newPlot(\"2c4bef20-50c9-4600-a592-a179c0df6bc5\", [{\"type\": \"choropleth\", \"text\": [\"text1\", \"text2\", \"text3\"], \"colorbar\": {\"title\": \"Total Orders\"}, \"locations\": [\"AL\", \"AK\", \"AZ\", \"AR\", \"CA\", \"CO\", \"CT\", \"DE\", \"DC\", \"FL\", \"GA\", \"HI\", \"ID\", \"IL\", \"IN\", \"IA\", \"KS\", \"KY\", \"LA\", \"ME\", \"MD\", \"MA\", \"MI\", \"MN\", \"MS\", \"MO\", \"MT\", \"NE\", \"NV\", \"NH\", \"NJ\", \"NM\", \"NY\", \"NC\", \"ND\", \"OH\", \"OK\", \"OR\", \"PA\", \"RI\", \"SC\", \"SD\", \"TN\", \"TX\", \"UT\", \"VT\", \"VA\", \"WA\", \"WV\", \"WI\", \"WY\"], \"z\": [9728, 1418, 17318, 5363, 100064, 15841, 10021, 2897, 1561, 54342, 22667, 2209, 3149, 37003, 14599, 6410, 6423, 11468, 11432, 3673, 18607, 21145, 25105, 10883, 4856, 14068, 2294, 4345, 7805, 4435, 39047, 4812, 67476, 21042, 2061, 31365, 8097, 8959, 46600, 3090, 9669, 1698, 14252, 65808, 8527, 1456, 23217, 15919, 6688, 11657, 1791], \"colorscale\": \"Portland\", \"locationmode\": \"USA-states\"}], {\"geo\": {\"scope\": \"usa\"}}, {\"showLink\": true, \"linkText\": \"Export to plot.ly\"})});</script>"
      ]
     },
     "metadata": {},
     "output_type": "display_data"
    }
   ],
   "source": [
    "data = dict(type = 'choropleth',\n",
    "            locations = mergedLatByLoc.State,\n",
    "            locationmode = 'USA-states',\n",
    "            colorscale= 'Portland',\n",
    "            text= ['text1','text2','text3'],\n",
    "            z=mergedLatByLoc.TotalOrders,\n",
    "            colorbar = {'title':'Total Orders'})\n",
    "layout = dict(geo = {'scope':'usa'})\n",
    "choromap = go.Figure(data = [data],layout = layout)\n",
    "iplot(choromap)"
   ]
  },
  {
   "cell_type": "markdown",
   "metadata": {},
   "source": [
    "## Choropleth USA Maps for total SKUs"
   ]
  },
  {
   "cell_type": "code",
   "execution_count": 24,
   "metadata": {
    "collapsed": false
   },
   "outputs": [
    {
     "data": {
      "application/vnd.plotly.v1+json": {
       "data": [
        {
         "colorbar": {
          "title": "Total SKUs"
         },
         "colorscale": "Portland",
         "locationmode": "USA-states",
         "locations": [
          "AL",
          "AK",
          "AZ",
          "AR",
          "CA",
          "CO",
          "CT",
          "DE",
          "DC",
          "FL",
          "GA",
          "HI",
          "ID",
          "IL",
          "IN",
          "IA",
          "KS",
          "KY",
          "LA",
          "ME",
          "MD",
          "MA",
          "MI",
          "MN",
          "MS",
          "MO",
          "MT",
          "NE",
          "NV",
          "NH",
          "NJ",
          "NM",
          "NY",
          "NC",
          "ND",
          "OH",
          "OK",
          "OR",
          "PA",
          "RI",
          "SC",
          "SD",
          "TN",
          "TX",
          "UT",
          "VT",
          "VA",
          "WA",
          "WV",
          "WI",
          "WY"
         ],
         "text": [
          "text1",
          "text2",
          "text3"
         ],
         "type": "choropleth",
         "z": [
          8724,
          2447,
          12342,
          5745,
          25246,
          11986,
          8230,
          3740,
          2295,
          21720,
          13976,
          2827,
          3930,
          17934,
          11312,
          6545,
          6470,
          8952,
          9278,
          4550,
          12703,
          12909,
          15382,
          9711,
          5234,
          10937,
          3238,
          4807,
          7622,
          4864,
          17207,
          5677,
          22917,
          13658,
          3031,
          16837,
          7414,
          8563,
          19541,
          3658,
          8316,
          2598,
          10694,
          22660,
          7676,
          2191,
          14569,
          11658,
          6565,
          9964,
          2798
         ]
        }
       ],
       "layout": {
        "geo": {
         "scope": "usa"
        }
       }
      },
      "text/html": [
       "<div id=\"d40d6951-0760-495a-8dda-2f5b68a3e4ff\" style=\"height: 525px; width: 100%;\" class=\"plotly-graph-div\"></div><script type=\"text/javascript\">require([\"plotly\"], function(Plotly) { window.PLOTLYENV=window.PLOTLYENV || {};window.PLOTLYENV.BASE_URL=\"https://plot.ly\";Plotly.newPlot(\"d40d6951-0760-495a-8dda-2f5b68a3e4ff\", [{\"type\": \"choropleth\", \"text\": [\"text1\", \"text2\", \"text3\"], \"colorbar\": {\"title\": \"Total SKUs\"}, \"locations\": [\"AL\", \"AK\", \"AZ\", \"AR\", \"CA\", \"CO\", \"CT\", \"DE\", \"DC\", \"FL\", \"GA\", \"HI\", \"ID\", \"IL\", \"IN\", \"IA\", \"KS\", \"KY\", \"LA\", \"ME\", \"MD\", \"MA\", \"MI\", \"MN\", \"MS\", \"MO\", \"MT\", \"NE\", \"NV\", \"NH\", \"NJ\", \"NM\", \"NY\", \"NC\", \"ND\", \"OH\", \"OK\", \"OR\", \"PA\", \"RI\", \"SC\", \"SD\", \"TN\", \"TX\", \"UT\", \"VT\", \"VA\", \"WA\", \"WV\", \"WI\", \"WY\"], \"z\": [8724, 2447, 12342, 5745, 25246, 11986, 8230, 3740, 2295, 21720, 13976, 2827, 3930, 17934, 11312, 6545, 6470, 8952, 9278, 4550, 12703, 12909, 15382, 9711, 5234, 10937, 3238, 4807, 7622, 4864, 17207, 5677, 22917, 13658, 3031, 16837, 7414, 8563, 19541, 3658, 8316, 2598, 10694, 22660, 7676, 2191, 14569, 11658, 6565, 9964, 2798], \"colorscale\": \"Portland\", \"locationmode\": \"USA-states\"}], {\"geo\": {\"scope\": \"usa\"}}, {\"showLink\": true, \"linkText\": \"Export to plot.ly\"})});</script>"
      ],
      "text/vnd.plotly.v1+html": [
       "<div id=\"d40d6951-0760-495a-8dda-2f5b68a3e4ff\" style=\"height: 525px; width: 100%;\" class=\"plotly-graph-div\"></div><script type=\"text/javascript\">require([\"plotly\"], function(Plotly) { window.PLOTLYENV=window.PLOTLYENV || {};window.PLOTLYENV.BASE_URL=\"https://plot.ly\";Plotly.newPlot(\"d40d6951-0760-495a-8dda-2f5b68a3e4ff\", [{\"type\": \"choropleth\", \"text\": [\"text1\", \"text2\", \"text3\"], \"colorbar\": {\"title\": \"Total SKUs\"}, \"locations\": [\"AL\", \"AK\", \"AZ\", \"AR\", \"CA\", \"CO\", \"CT\", \"DE\", \"DC\", \"FL\", \"GA\", \"HI\", \"ID\", \"IL\", \"IN\", \"IA\", \"KS\", \"KY\", \"LA\", \"ME\", \"MD\", \"MA\", \"MI\", \"MN\", \"MS\", \"MO\", \"MT\", \"NE\", \"NV\", \"NH\", \"NJ\", \"NM\", \"NY\", \"NC\", \"ND\", \"OH\", \"OK\", \"OR\", \"PA\", \"RI\", \"SC\", \"SD\", \"TN\", \"TX\", \"UT\", \"VT\", \"VA\", \"WA\", \"WV\", \"WI\", \"WY\"], \"z\": [8724, 2447, 12342, 5745, 25246, 11986, 8230, 3740, 2295, 21720, 13976, 2827, 3930, 17934, 11312, 6545, 6470, 8952, 9278, 4550, 12703, 12909, 15382, 9711, 5234, 10937, 3238, 4807, 7622, 4864, 17207, 5677, 22917, 13658, 3031, 16837, 7414, 8563, 19541, 3658, 8316, 2598, 10694, 22660, 7676, 2191, 14569, 11658, 6565, 9964, 2798], \"colorscale\": \"Portland\", \"locationmode\": \"USA-states\"}], {\"geo\": {\"scope\": \"usa\"}}, {\"showLink\": true, \"linkText\": \"Export to plot.ly\"})});</script>"
      ]
     },
     "metadata": {},
     "output_type": "display_data"
    }
   ],
   "source": [
    "data = dict(type = 'choropleth',\n",
    "            locations = mergedLatByLoc.State,\n",
    "            locationmode = 'USA-states',\n",
    "            colorscale= 'Portland',\n",
    "            text= ['text1','text2','text3'],\n",
    "            z=mergedLatByLoc.TotalSKUs,\n",
    "            colorbar = {'title':'Total SKUs'})\n",
    "layout = dict(geo = {'scope':'usa'})\n",
    "choromap = go.Figure(data = [data],layout = layout)\n",
    "iplot(choromap)"
   ]
  },
  {
   "cell_type": "markdown",
   "metadata": {},
   "source": [
    "<a id=\"18\"></a> <br>\n",
    "# Order Summary"
   ]
  },
  {
   "cell_type": "code",
   "execution_count": 25,
   "metadata": {
    "collapsed": false
   },
   "outputs": [
    {
     "data": {
      "text/html": [
       "<div>\n",
       "<style scoped>\n",
       "    .dataframe tbody tr th:only-of-type {\n",
       "        vertical-align: middle;\n",
       "    }\n",
       "\n",
       "    .dataframe tbody tr th {\n",
       "        vertical-align: top;\n",
       "    }\n",
       "\n",
       "    .dataframe thead th {\n",
       "        text-align: right;\n",
       "    }\n",
       "</style>\n",
       "<table border=\"1\" class=\"dataframe\">\n",
       "  <thead>\n",
       "    <tr style=\"text-align: right;\">\n",
       "      <th></th>\n",
       "      <th>TotalOrders</th>\n",
       "      <th>TotalSKUs</th>\n",
       "      <th>TotalLines</th>\n",
       "      <th>TotalQTY</th>\n",
       "    </tr>\n",
       "    <tr>\n",
       "      <th>orNo</th>\n",
       "      <th></th>\n",
       "      <th></th>\n",
       "      <th></th>\n",
       "      <th></th>\n",
       "    </tr>\n",
       "  </thead>\n",
       "  <tbody>\n",
       "    <tr>\n",
       "      <th>502080437</th>\n",
       "      <td>1</td>\n",
       "      <td>2</td>\n",
       "      <td>2</td>\n",
       "      <td>2</td>\n",
       "    </tr>\n",
       "    <tr>\n",
       "      <th>502081035</th>\n",
       "      <td>1</td>\n",
       "      <td>4</td>\n",
       "      <td>4</td>\n",
       "      <td>4</td>\n",
       "    </tr>\n",
       "    <tr>\n",
       "      <th>502081039</th>\n",
       "      <td>1</td>\n",
       "      <td>4</td>\n",
       "      <td>4</td>\n",
       "      <td>4</td>\n",
       "    </tr>\n",
       "    <tr>\n",
       "      <th>502081061</th>\n",
       "      <td>1</td>\n",
       "      <td>1</td>\n",
       "      <td>1</td>\n",
       "      <td>1</td>\n",
       "    </tr>\n",
       "    <tr>\n",
       "      <th>502081062</th>\n",
       "      <td>1</td>\n",
       "      <td>1</td>\n",
       "      <td>1</td>\n",
       "      <td>1</td>\n",
       "    </tr>\n",
       "    <tr>\n",
       "      <th>502081105</th>\n",
       "      <td>1</td>\n",
       "      <td>1</td>\n",
       "      <td>1</td>\n",
       "      <td>1</td>\n",
       "    </tr>\n",
       "    <tr>\n",
       "      <th>502081131</th>\n",
       "      <td>1</td>\n",
       "      <td>4</td>\n",
       "      <td>4</td>\n",
       "      <td>4</td>\n",
       "    </tr>\n",
       "    <tr>\n",
       "      <th>502081156</th>\n",
       "      <td>1</td>\n",
       "      <td>2</td>\n",
       "      <td>2</td>\n",
       "      <td>2</td>\n",
       "    </tr>\n",
       "    <tr>\n",
       "      <th>502081158</th>\n",
       "      <td>1</td>\n",
       "      <td>3</td>\n",
       "      <td>3</td>\n",
       "      <td>4</td>\n",
       "    </tr>\n",
       "    <tr>\n",
       "      <th>502081169</th>\n",
       "      <td>1</td>\n",
       "      <td>2</td>\n",
       "      <td>2</td>\n",
       "      <td>2</td>\n",
       "    </tr>\n",
       "  </tbody>\n",
       "</table>\n",
       "</div>"
      ],
      "text/plain": [
       "           TotalOrders  TotalSKUs  TotalLines  TotalQTY\n",
       "orNo                                                   \n",
       "502080437            1          2           2         2\n",
       "502081035            1          4           4         4\n",
       "502081039            1          4           4         4\n",
       "502081061            1          1           1         1\n",
       "502081062            1          1           1         1\n",
       "502081105            1          1           1         1\n",
       "502081131            1          4           4         4\n",
       "502081156            1          2           2         2\n",
       "502081158            1          3           3         4\n",
       "502081169            1          2           2         2"
      ]
     },
     "execution_count": 25,
     "metadata": {},
     "output_type": "execute_result"
    }
   ],
   "source": [
    "byOrder = pd.DataFrame(df.groupby(['orNo'])['orNo'].nunique())\n",
    "byOrder.columns = ['TotalOrders']\n",
    "byOrder['TotalSKUs'] = df.groupby(['orNo'])['SKUIDs'].nunique()\n",
    "byOrder['TotalLines'] = df.groupby(['orNo'])['orNo'].size()\n",
    "byOrder['TotalQTY'] = df.groupby(['orNo'])['QTY'].sum()\n",
    "byOrder.head(10)"
   ]
  },
  {
   "cell_type": "markdown",
   "metadata": {},
   "source": [
    "<a id=\"19\"></a> <br>\n",
    "# Pareto Diagrams"
   ]
  },
  {
   "cell_type": "markdown",
   "metadata": {},
   "source": [
    "<a id=\"20\"></a> <br>\n",
    "## Pareto diagram for Lines"
   ]
  },
  {
   "cell_type": "code",
   "execution_count": 26,
   "metadata": {
    "collapsed": false
   },
   "outputs": [
    {
     "data": {
      "image/png": "[encoded data removed]",
      "text/plain": [
       "<Figure size 600x400 with 2 Axes>"
      ]
     },
     "metadata": {},
     "output_type": "display_data"
    }
   ],
   "source": [
    "plotDFLines = pd.DataFrame(bySKU.Lines.values,columns=['L'])\n",
    "plotDFLines = plotDFLines.sort_values(['L'], ascending=[False])\n",
    "# Accumulative % of SKU activity\n",
    "sumLines = sum(bySKU.Lines.values)\n",
    "\n",
    "percentLine = []\n",
    "for i in range(0, len(bySKU.index)):\n",
    "    percentLine.append(plotDFLines.values[i]/sumLines*100)\n",
    "\n",
    "cumSumPercentLine = np.cumsum(percentLine)\n",
    "\n",
    "fig, ax1 = plt.subplots()\n",
    "ax1.plot(plotDFLines.values, 'b-')\n",
    "ax1.set_xlabel('')\n",
    "# Make the y-axis label, ticks and tick labels match the line color.\n",
    "ax1.set_ylabel('Number of Lines', color='b')\n",
    "ax1.tick_params('y', colors='b')\n",
    "\n",
    "ax2 = ax1.twinx()\n",
    "s2 = cumSumPercentLine\n",
    "ax2.plot(s2, 'r.')\n",
    "ax2.set_ylabel('Accumulated % of SKU Activity', color='r')\n",
    "ax2.tick_params('y', colors='r')\n",
    "\n",
    "fig.tight_layout()\n",
    "# plt.show()\n",
    "# pylab.savefig('C:/Users/Parvaneh.Jahani/Desktop/foo1.png')"
   ]
  },
  {
   "cell_type": "markdown",
   "metadata": {},
   "source": [
    "<a id=\"21\"></a> <br>\n",
    "## Pareto diagram for quantity"
   ]
  },
  {
   "cell_type": "code",
   "execution_count": 27,
   "metadata": {
    "collapsed": false
   },
   "outputs": [
    {
     "data": {
      "image/png": "[encoded data removed]",
      "text/plain": [
       "<Figure size 600x400 with 2 Axes>"
      ]
     },
     "metadata": {},
     "output_type": "display_data"
    }
   ],
   "source": [
    "plotDFQTY = pd.DataFrame(bySKU.QTYs.values,columns=['Q'])\n",
    "plotDFQTY = plotDFQTY.sort_values(['Q'], ascending=[False])\n",
    "# Accumulative % of SKU activity\n",
    "sumQTYs = sum(bySKU.QTYs.values)\n",
    "\n",
    "percentQTY = []\n",
    "for i in range(0, len(bySKU.index)):\n",
    "    percentQTY.append(plotDFQTY.values[i]/sumQTYs*100)\n",
    "\n",
    "cumSumPercentQTY = np.cumsum(percentQTY)\n",
    "\n",
    "fig, ax3 = plt.subplots()\n",
    "ax3.plot(plotDFQTY.values, 'b-')\n",
    "ax3.set_xlabel('')\n",
    "# Make the y-axis label, ticks and tick labels match the line color.\n",
    "ax3.set_ylabel('Number of Eaches', color='b')\n",
    "ax3.tick_params('y', colors='b')\n",
    "\n",
    "ax4 = ax3.twinx()\n",
    "s4 = cumSumPercentQTY\n",
    "ax4.plot(s4, 'r.')\n",
    "ax4.set_ylabel('Accumulated % of SKU Activity', color='r')\n",
    "ax4.tick_params('y', colors='r')\n",
    "\n",
    "fig.tight_layout()\n",
    "# plt.show()\n",
    "# pylab.savefig('C:/Users/Parvaneh.Jahani/Desktop/foo2.png')"
   ]
  },
  {
   "cell_type": "markdown",
   "metadata": {},
   "source": [
    "<a id=\"22\"></a> <br>\n",
    "# Single-Multi order analysis"
   ]
  },
  {
   "cell_type": "code",
   "execution_count": 28,
   "metadata": {
    "collapsed": false
   },
   "outputs": [],
   "source": [
    "df['Lines'] = df.groupby('orNo')['orNo'].transform('count')\n",
    "df['sumQTY'] = df.groupby('orNo')['QTY'].transform('sum')\n",
    "conditions = [(df['Lines']>1)&(df['sumQTY']>1),\n",
    "              (df['Lines']==1)&(df['sumQTY']==1),\n",
    "              (df['Lines']==1)&(df['sumQTY']>1)]\n",
    "choices = ['MM','SS','SM']\n",
    "df['SingleMulti'] = np.select(conditions, choices, default='NOTFOUND')\n",
    "\n",
    "dfSS = df[df['SingleMulti'] == 'SS']\n",
    "dfSM = df[df['SingleMulti'] == 'SM']\n",
    "dfMM = df[df['SingleMulti'] == 'MM']"
   ]
  },
  {
   "cell_type": "markdown",
   "metadata": {},
   "source": [
    "<a id=\"23\"></a> <br>\n",
    "## Number of single-multi orders"
   ]
  },
  {
   "cell_type": "code",
   "execution_count": 29,
   "metadata": {
    "collapsed": false
   },
   "outputs": [
    {
     "data": {
      "text/html": [
       "<div>\n",
       "<style scoped>\n",
       "    .dataframe tbody tr th:only-of-type {\n",
       "        vertical-align: middle;\n",
       "    }\n",
       "\n",
       "    .dataframe tbody tr th {\n",
       "        vertical-align: top;\n",
       "    }\n",
       "\n",
       "    .dataframe thead th {\n",
       "        text-align: right;\n",
       "    }\n",
       "</style>\n",
       "<table border=\"1\" class=\"dataframe\">\n",
       "  <thead>\n",
       "    <tr style=\"text-align: right;\">\n",
       "      <th></th>\n",
       "      <th>Type</th>\n",
       "      <th>Number_of_orders</th>\n",
       "      <th>Number_of_orders</th>\n",
       "      <th>Number_of_lines</th>\n",
       "      <th>Quantities</th>\n",
       "    </tr>\n",
       "  </thead>\n",
       "  <tbody>\n",
       "    <tr>\n",
       "      <th>0</th>\n",
       "      <td>Single_Single</td>\n",
       "      <td>478013</td>\n",
       "      <td>28986</td>\n",
       "      <td>478013</td>\n",
       "      <td>478013</td>\n",
       "    </tr>\n",
       "    <tr>\n",
       "      <th>1</th>\n",
       "      <td>Single_Multi</td>\n",
       "      <td>22369</td>\n",
       "      <td>6356</td>\n",
       "      <td>22369</td>\n",
       "      <td>73476</td>\n",
       "    </tr>\n",
       "    <tr>\n",
       "      <th>2</th>\n",
       "      <td>Multi_Multi</td>\n",
       "      <td>363266</td>\n",
       "      <td>38807</td>\n",
       "      <td>1140879</td>\n",
       "      <td>1242203</td>\n",
       "    </tr>\n",
       "  </tbody>\n",
       "</table>\n",
       "</div>"
      ],
      "text/plain": [
       "            Type  Number_of_orders  Number_of_orders  Number_of_lines  \\\n",
       "0  Single_Single            478013             28986           478013   \n",
       "1   Single_Multi             22369              6356            22369   \n",
       "2    Multi_Multi            363266             38807          1140879   \n",
       "\n",
       "   Quantities  \n",
       "0      478013  \n",
       "1       73476  \n",
       "2     1242203  "
      ]
     },
     "execution_count": 29,
     "metadata": {},
     "output_type": "execute_result"
    }
   ],
   "source": [
    "arr = [['Single_Single',dfSS.orNo.nunique(),dfSS.SKUIDs.nunique(),dfSS.orNo.count(),dfSS.QTY.sum()],['Single_Multi',dfSM.orNo.nunique(),dfSM.SKUIDs.nunique(),dfSM.orNo.count(),dfSM.QTY.sum()],['Multi_Multi',dfMM.orNo.nunique(),dfMM.SKUIDs.nunique(),dfMM.orNo.count(),dfMM.QTY.sum()]]\n",
    "dfSummary = pd.DataFrame(arr,columns=['Type','Number_of_orders','Number_of_orders','Number_of_lines','Quantities']).reset_index(drop=True)\n",
    "dfSummary"
   ]
  },
  {
   "cell_type": "markdown",
   "metadata": {},
   "source": [
    "<a id=\"24\"></a> <br>\n",
    "## Count of single multi lines"
   ]
  },
  {
   "cell_type": "code",
   "execution_count": 30,
   "metadata": {
    "collapsed": false
   },
   "outputs": [
    {
     "data": {
      "text/plain": [
       "MM    1140879\n",
       "SS     478013\n",
       "SM      22369\n",
       "Name: SingleMulti, dtype: int64"
      ]
     },
     "execution_count": 30,
     "metadata": {},
     "output_type": "execute_result"
    },
    {
     "data": {
      "image/png": "[encoded data removed]",
      "text/plain": [
       "<Figure size 600x400 with 1 Axes>"
      ]
     },
     "metadata": {},
     "output_type": "display_data"
    }
   ],
   "source": [
    "df['SingleMulti'].value_counts(dropna =False)\n",
    "sns.countplot(x=\"SingleMulti\", data=df)\n",
    "df.loc[:,'SingleMulti'].value_counts()"
   ]
  },
  {
   "cell_type": "markdown",
   "metadata": {},
   "source": [
    "<a id=\"25\"></a> <br>\n",
    "## Order Summary by date for Single-Single"
   ]
  },
  {
   "cell_type": "code",
   "execution_count": 31,
   "metadata": {
    "collapsed": false
   },
   "outputs": [
    {
     "data": {
      "text/html": [
       "<div>\n",
       "<style scoped>\n",
       "    .dataframe tbody tr th:only-of-type {\n",
       "        vertical-align: middle;\n",
       "    }\n",
       "\n",
       "    .dataframe tbody tr th {\n",
       "        vertical-align: top;\n",
       "    }\n",
       "\n",
       "    .dataframe thead th {\n",
       "        text-align: right;\n",
       "    }\n",
       "</style>\n",
       "<table border=\"1\" class=\"dataframe\">\n",
       "  <thead>\n",
       "    <tr style=\"text-align: right;\">\n",
       "      <th></th>\n",
       "      <th>TotalOrders</th>\n",
       "      <th>TotalSKUs</th>\n",
       "      <th>TotalLines</th>\n",
       "      <th>TotalQTY</th>\n",
       "    </tr>\n",
       "    <tr>\n",
       "      <th>DAY</th>\n",
       "      <th></th>\n",
       "      <th></th>\n",
       "      <th></th>\n",
       "      <th></th>\n",
       "    </tr>\n",
       "  </thead>\n",
       "  <tbody>\n",
       "    <tr>\n",
       "      <th>2018-02-04</th>\n",
       "      <td>490</td>\n",
       "      <td>422</td>\n",
       "      <td>490</td>\n",
       "      <td>490</td>\n",
       "    </tr>\n",
       "    <tr>\n",
       "      <th>2018-02-05</th>\n",
       "      <td>510</td>\n",
       "      <td>425</td>\n",
       "      <td>510</td>\n",
       "      <td>510</td>\n",
       "    </tr>\n",
       "    <tr>\n",
       "      <th>2018-02-06</th>\n",
       "      <td>571</td>\n",
       "      <td>489</td>\n",
       "      <td>571</td>\n",
       "      <td>571</td>\n",
       "    </tr>\n",
       "    <tr>\n",
       "      <th>2018-02-07</th>\n",
       "      <td>613</td>\n",
       "      <td>526</td>\n",
       "      <td>613</td>\n",
       "      <td>613</td>\n",
       "    </tr>\n",
       "    <tr>\n",
       "      <th>2018-02-08</th>\n",
       "      <td>499</td>\n",
       "      <td>420</td>\n",
       "      <td>499</td>\n",
       "      <td>499</td>\n",
       "    </tr>\n",
       "    <tr>\n",
       "      <th>2018-02-09</th>\n",
       "      <td>513</td>\n",
       "      <td>449</td>\n",
       "      <td>513</td>\n",
       "      <td>513</td>\n",
       "    </tr>\n",
       "    <tr>\n",
       "      <th>2018-02-10</th>\n",
       "      <td>487</td>\n",
       "      <td>432</td>\n",
       "      <td>487</td>\n",
       "      <td>487</td>\n",
       "    </tr>\n",
       "    <tr>\n",
       "      <th>2018-02-11</th>\n",
       "      <td>616</td>\n",
       "      <td>506</td>\n",
       "      <td>616</td>\n",
       "      <td>616</td>\n",
       "    </tr>\n",
       "    <tr>\n",
       "      <th>2018-02-12</th>\n",
       "      <td>591</td>\n",
       "      <td>488</td>\n",
       "      <td>591</td>\n",
       "      <td>591</td>\n",
       "    </tr>\n",
       "    <tr>\n",
       "      <th>2018-02-13</th>\n",
       "      <td>472</td>\n",
       "      <td>403</td>\n",
       "      <td>472</td>\n",
       "      <td>472</td>\n",
       "    </tr>\n",
       "  </tbody>\n",
       "</table>\n",
       "</div>"
      ],
      "text/plain": [
       "            TotalOrders  TotalSKUs  TotalLines  TotalQTY\n",
       "DAY                                                     \n",
       "2018-02-04          490        422         490       490\n",
       "2018-02-05          510        425         510       510\n",
       "2018-02-06          571        489         571       571\n",
       "2018-02-07          613        526         613       613\n",
       "2018-02-08          499        420         499       499\n",
       "2018-02-09          513        449         513       513\n",
       "2018-02-10          487        432         487       487\n",
       "2018-02-11          616        506         616       616\n",
       "2018-02-12          591        488         591       591\n",
       "2018-02-13          472        403         472       472"
      ]
     },
     "execution_count": 31,
     "metadata": {},
     "output_type": "execute_result"
    }
   ],
   "source": [
    "byDate = pd.DataFrame(dfSS.groupby(['DAY'])['orNo'].nunique())\n",
    "byDate.columns = ['TotalOrders']\n",
    "byDate['TotalSKUs'] = dfSS.groupby(['DAY'])['SKUIDs'].nunique()\n",
    "byDate['TotalLines'] = dfSS.groupby(['DAY'])['orNo'].size()\n",
    "byDate['TotalQTY'] = dfSS.groupby(['DAY'])['QTY'].sum()\n",
    "byDate.head(10)"
   ]
  },
  {
   "cell_type": "markdown",
   "metadata": {},
   "source": [
    "<a id=\"26\"></a> <br>\n",
    "## Order Summary by date for Single-Multi"
   ]
  },
  {
   "cell_type": "code",
   "execution_count": 32,
   "metadata": {
    "collapsed": false
   },
   "outputs": [
    {
     "data": {
      "text/html": [
       "<div>\n",
       "<style scoped>\n",
       "    .dataframe tbody tr th:only-of-type {\n",
       "        vertical-align: middle;\n",
       "    }\n",
       "\n",
       "    .dataframe tbody tr th {\n",
       "        vertical-align: top;\n",
       "    }\n",
       "\n",
       "    .dataframe thead th {\n",
       "        text-align: right;\n",
       "    }\n",
       "</style>\n",
       "<table border=\"1\" class=\"dataframe\">\n",
       "  <thead>\n",
       "    <tr style=\"text-align: right;\">\n",
       "      <th></th>\n",
       "      <th>TotalOrders</th>\n",
       "      <th>TotalSKUs</th>\n",
       "      <th>TotalLines</th>\n",
       "      <th>TotalQTY</th>\n",
       "    </tr>\n",
       "    <tr>\n",
       "      <th>DAY</th>\n",
       "      <th></th>\n",
       "      <th></th>\n",
       "      <th></th>\n",
       "      <th></th>\n",
       "    </tr>\n",
       "  </thead>\n",
       "  <tbody>\n",
       "    <tr>\n",
       "      <th>2018-02-04</th>\n",
       "      <td>38</td>\n",
       "      <td>38</td>\n",
       "      <td>38</td>\n",
       "      <td>114</td>\n",
       "    </tr>\n",
       "    <tr>\n",
       "      <th>2018-02-05</th>\n",
       "      <td>20</td>\n",
       "      <td>19</td>\n",
       "      <td>20</td>\n",
       "      <td>95</td>\n",
       "    </tr>\n",
       "    <tr>\n",
       "      <th>2018-02-06</th>\n",
       "      <td>34</td>\n",
       "      <td>32</td>\n",
       "      <td>34</td>\n",
       "      <td>189</td>\n",
       "    </tr>\n",
       "    <tr>\n",
       "      <th>2018-02-07</th>\n",
       "      <td>41</td>\n",
       "      <td>39</td>\n",
       "      <td>41</td>\n",
       "      <td>144</td>\n",
       "    </tr>\n",
       "    <tr>\n",
       "      <th>2018-02-08</th>\n",
       "      <td>27</td>\n",
       "      <td>26</td>\n",
       "      <td>27</td>\n",
       "      <td>79</td>\n",
       "    </tr>\n",
       "    <tr>\n",
       "      <th>2018-02-09</th>\n",
       "      <td>27</td>\n",
       "      <td>26</td>\n",
       "      <td>27</td>\n",
       "      <td>117</td>\n",
       "    </tr>\n",
       "    <tr>\n",
       "      <th>2018-02-10</th>\n",
       "      <td>21</td>\n",
       "      <td>20</td>\n",
       "      <td>21</td>\n",
       "      <td>62</td>\n",
       "    </tr>\n",
       "    <tr>\n",
       "      <th>2018-02-11</th>\n",
       "      <td>30</td>\n",
       "      <td>30</td>\n",
       "      <td>30</td>\n",
       "      <td>89</td>\n",
       "    </tr>\n",
       "    <tr>\n",
       "      <th>2018-02-12</th>\n",
       "      <td>33</td>\n",
       "      <td>28</td>\n",
       "      <td>33</td>\n",
       "      <td>102</td>\n",
       "    </tr>\n",
       "    <tr>\n",
       "      <th>2018-02-13</th>\n",
       "      <td>42</td>\n",
       "      <td>40</td>\n",
       "      <td>42</td>\n",
       "      <td>153</td>\n",
       "    </tr>\n",
       "  </tbody>\n",
       "</table>\n",
       "</div>"
      ],
      "text/plain": [
       "            TotalOrders  TotalSKUs  TotalLines  TotalQTY\n",
       "DAY                                                     \n",
       "2018-02-04           38         38          38       114\n",
       "2018-02-05           20         19          20        95\n",
       "2018-02-06           34         32          34       189\n",
       "2018-02-07           41         39          41       144\n",
       "2018-02-08           27         26          27        79\n",
       "2018-02-09           27         26          27       117\n",
       "2018-02-10           21         20          21        62\n",
       "2018-02-11           30         30          30        89\n",
       "2018-02-12           33         28          33       102\n",
       "2018-02-13           42         40          42       153"
      ]
     },
     "execution_count": 32,
     "metadata": {},
     "output_type": "execute_result"
    }
   ],
   "source": [
    "byDate = pd.DataFrame(dfSM.groupby(['DAY'])['orNo'].nunique())\n",
    "byDate.columns = ['TotalOrders']\n",
    "byDate['TotalSKUs'] = dfSM.groupby(['DAY'])['SKUIDs'].nunique()\n",
    "byDate['TotalLines'] = dfSM.groupby(['DAY'])['orNo'].size()\n",
    "byDate['TotalQTY'] = dfSM.groupby(['DAY'])['QTY'].sum()\n",
    "byDate.head(10)"
   ]
  },
  {
   "cell_type": "markdown",
   "metadata": {},
   "source": [
    "<a id=\"27\"></a> <br>\n",
    "## Order Summary by date for Multi-Multi"
   ]
  },
  {
   "cell_type": "code",
   "execution_count": 33,
   "metadata": {
    "collapsed": false
   },
   "outputs": [
    {
     "data": {
      "text/html": [
       "<div>\n",
       "<style scoped>\n",
       "    .dataframe tbody tr th:only-of-type {\n",
       "        vertical-align: middle;\n",
       "    }\n",
       "\n",
       "    .dataframe tbody tr th {\n",
       "        vertical-align: top;\n",
       "    }\n",
       "\n",
       "    .dataframe thead th {\n",
       "        text-align: right;\n",
       "    }\n",
       "</style>\n",
       "<table border=\"1\" class=\"dataframe\">\n",
       "  <thead>\n",
       "    <tr style=\"text-align: right;\">\n",
       "      <th></th>\n",
       "      <th>TotalOrders</th>\n",
       "      <th>TotalSKUs</th>\n",
       "      <th>TotalLines</th>\n",
       "      <th>TotalQTY</th>\n",
       "    </tr>\n",
       "    <tr>\n",
       "      <th>DAY</th>\n",
       "      <th></th>\n",
       "      <th></th>\n",
       "      <th></th>\n",
       "      <th></th>\n",
       "    </tr>\n",
       "  </thead>\n",
       "  <tbody>\n",
       "    <tr>\n",
       "      <th>2018-02-04</th>\n",
       "      <td>543</td>\n",
       "      <td>1152</td>\n",
       "      <td>1667</td>\n",
       "      <td>1710</td>\n",
       "    </tr>\n",
       "    <tr>\n",
       "      <th>2018-02-05</th>\n",
       "      <td>673</td>\n",
       "      <td>1443</td>\n",
       "      <td>2143</td>\n",
       "      <td>2266</td>\n",
       "    </tr>\n",
       "    <tr>\n",
       "      <th>2018-02-06</th>\n",
       "      <td>541</td>\n",
       "      <td>1105</td>\n",
       "      <td>1606</td>\n",
       "      <td>1719</td>\n",
       "    </tr>\n",
       "    <tr>\n",
       "      <th>2018-02-07</th>\n",
       "      <td>636</td>\n",
       "      <td>1321</td>\n",
       "      <td>1991</td>\n",
       "      <td>2064</td>\n",
       "    </tr>\n",
       "    <tr>\n",
       "      <th>2018-02-08</th>\n",
       "      <td>590</td>\n",
       "      <td>1235</td>\n",
       "      <td>1824</td>\n",
       "      <td>1922</td>\n",
       "    </tr>\n",
       "    <tr>\n",
       "      <th>2018-02-09</th>\n",
       "      <td>581</td>\n",
       "      <td>1292</td>\n",
       "      <td>1818</td>\n",
       "      <td>1978</td>\n",
       "    </tr>\n",
       "    <tr>\n",
       "      <th>2018-02-10</th>\n",
       "      <td>528</td>\n",
       "      <td>1138</td>\n",
       "      <td>1616</td>\n",
       "      <td>1715</td>\n",
       "    </tr>\n",
       "    <tr>\n",
       "      <th>2018-02-11</th>\n",
       "      <td>688</td>\n",
       "      <td>1481</td>\n",
       "      <td>2172</td>\n",
       "      <td>2296</td>\n",
       "    </tr>\n",
       "    <tr>\n",
       "      <th>2018-02-12</th>\n",
       "      <td>586</td>\n",
       "      <td>1458</td>\n",
       "      <td>1976</td>\n",
       "      <td>2146</td>\n",
       "    </tr>\n",
       "    <tr>\n",
       "      <th>2018-02-13</th>\n",
       "      <td>427</td>\n",
       "      <td>1011</td>\n",
       "      <td>1418</td>\n",
       "      <td>1529</td>\n",
       "    </tr>\n",
       "  </tbody>\n",
       "</table>\n",
       "</div>"
      ],
      "text/plain": [
       "            TotalOrders  TotalSKUs  TotalLines  TotalQTY\n",
       "DAY                                                     \n",
       "2018-02-04          543       1152        1667      1710\n",
       "2018-02-05          673       1443        2143      2266\n",
       "2018-02-06          541       1105        1606      1719\n",
       "2018-02-07          636       1321        1991      2064\n",
       "2018-02-08          590       1235        1824      1922\n",
       "2018-02-09          581       1292        1818      1978\n",
       "2018-02-10          528       1138        1616      1715\n",
       "2018-02-11          688       1481        2172      2296\n",
       "2018-02-12          586       1458        1976      2146\n",
       "2018-02-13          427       1011        1418      1529"
      ]
     },
     "execution_count": 33,
     "metadata": {},
     "output_type": "execute_result"
    }
   ],
   "source": [
    "byDate = pd.DataFrame(dfMM.groupby(['DAY'])['orNo'].nunique())\n",
    "byDate.columns = ['TotalOrders']\n",
    "byDate['TotalSKUs'] = dfMM.groupby(['DAY'])['SKUIDs'].nunique()\n",
    "byDate['TotalLines'] = dfMM.groupby(['DAY'])['orNo'].size()\n",
    "byDate['TotalQTY'] = dfMM.groupby(['DAY'])['QTY'].sum()\n",
    "byDate.head(10)"
   ]
  },
  {
   "cell_type": "markdown",
   "metadata": {},
   "source": [
    "<a id=\"29\"></a> <br>\n",
    "# SKU profile"
   ]
  },
  {
   "cell_type": "code",
   "execution_count": 34,
   "metadata": {
    "collapsed": true
   },
   "outputs": [],
   "source": [
    "skuProfile = pd.read_csv('C:/Users/Parvaneh.Jahani/Desktop/Spencer/SKUMaster.txt', sep=\"|\", error_bad_lines=False, encoding = \"ISO-8859-1\")\n",
    "SKUData = pd.DataFrame(skuProfile)"
   ]
  },
  {
   "cell_type": "markdown",
   "metadata": {},
   "source": [
    "<a id=\"30\"></a> <br>\n",
    "# Revising the columns' names\n",
    "To make sure that all columns' names are referable, .replace() method allows you to replace non-conforming characters, such as #/.-(), with under line."
   ]
  },
  {
   "cell_type": "code",
   "execution_count": 35,
   "metadata": {
    "collapsed": false
   },
   "outputs": [
    {
     "data": {
      "text/plain": [
       "Index(['Lob', 'Lob_SKU_Concat', 'Sku', 'Description', 'Dept_ID', 'Dept_Name',\n",
       "       'Brand', 'Class_ID', 'Class_Name', 'UOM', 'Each_Case', 'Each_InrPk',\n",
       "       'InrPk_Case', 'Shelf_Pack', 'Item_Hgt', 'Item_Lgh', 'Item_Wdh',\n",
       "       'Inpk_Hgt', 'Inpk_Lgh', 'Inpk_Wdh', 'Inpk_Wgt', 'Inpk_Cub', 'Mspk_Hgt',\n",
       "       'Mspk_Lgh', 'Mspk_Wdh', 'Mspk_Wgt', 'Mspk_Cub', 'Prpk', 'BASERETL',\n",
       "       'AVGCOST', 'Velocity'],\n",
       "      dtype='object')"
      ]
     },
     "execution_count": 35,
     "metadata": {},
     "output_type": "execute_result"
    }
   ],
   "source": [
    "cols = SKUData.columns\n",
    "cols = cols.map(lambda x: x.replace(' ', '_'))\n",
    "SKUData.columns = cols\n",
    "\n",
    "cols = SKUData.columns\n",
    "cols = cols.map(lambda x: x.replace('-', '_'))\n",
    "SKUData.columns = cols\n",
    "\n",
    "cols = SKUData.columns\n",
    "cols = cols.map(lambda x: x.replace('.', '_'))\n",
    "SKUData.columns = cols\n",
    "\n",
    "cols = SKUData.columns\n",
    "cols = cols.map(lambda x: x.replace('#', '_'))\n",
    "SKUData.columns = cols\n",
    "\n",
    "cols = SKUData.columns\n",
    "cols = cols.map(lambda x: x.replace('/', '_'))\n",
    "SKUData.columns = cols\n",
    "\n",
    "cols = SKUData.columns\n",
    "cols = cols.map(lambda x: x.replace('(', '_'))\n",
    "SKUData.columns = cols\n",
    "\n",
    "cols = SKUData.columns\n",
    "cols = cols.map(lambda x: x.replace(')', '_'))\n",
    "SKUData.columns = cols\n",
    "SKUData.columns"
   ]
  },
  {
   "cell_type": "markdown",
   "metadata": {},
   "source": [
    "<a id=\"31\"></a> <br>\n",
    "# Head of DataFrame\n",
    "DataFrame.head() function returns the first n rows for the object based on position. It is useful for quickly testing if your object has the right type of data in it."
   ]
  },
  {
   "cell_type": "code",
   "execution_count": 36,
   "metadata": {
    "collapsed": false
   },
   "outputs": [
    {
     "data": {
      "text/html": [
       "<div>\n",
       "<style scoped>\n",
       "    .dataframe tbody tr th:only-of-type {\n",
       "        vertical-align: middle;\n",
       "    }\n",
       "\n",
       "    .dataframe tbody tr th {\n",
       "        vertical-align: top;\n",
       "    }\n",
       "\n",
       "    .dataframe thead th {\n",
       "        text-align: right;\n",
       "    }\n",
       "</style>\n",
       "<table border=\"1\" class=\"dataframe\">\n",
       "  <thead>\n",
       "    <tr style=\"text-align: right;\">\n",
       "      <th></th>\n",
       "      <th>Lob</th>\n",
       "      <th>Lob_SKU_Concat</th>\n",
       "      <th>Sku</th>\n",
       "      <th>Description</th>\n",
       "      <th>Dept_ID</th>\n",
       "      <th>Dept_Name</th>\n",
       "      <th>Brand</th>\n",
       "      <th>Class_ID</th>\n",
       "      <th>Class_Name</th>\n",
       "      <th>UOM</th>\n",
       "      <th>Each_Case</th>\n",
       "      <th>Each_InrPk</th>\n",
       "      <th>InrPk_Case</th>\n",
       "      <th>Shelf_Pack</th>\n",
       "      <th>Item_Hgt</th>\n",
       "      <th>Item_Lgh</th>\n",
       "      <th>Item_Wdh</th>\n",
       "      <th>Inpk_Hgt</th>\n",
       "      <th>Inpk_Lgh</th>\n",
       "      <th>Inpk_Wdh</th>\n",
       "      <th>Inpk_Wgt</th>\n",
       "      <th>Inpk_Cub</th>\n",
       "      <th>Mspk_Hgt</th>\n",
       "      <th>Mspk_Lgh</th>\n",
       "      <th>Mspk_Wdh</th>\n",
       "      <th>Mspk_Wgt</th>\n",
       "      <th>Mspk_Cub</th>\n",
       "      <th>Prpk</th>\n",
       "      <th>BASERETL</th>\n",
       "      <th>AVGCOST</th>\n",
       "      <th>Velocity</th>\n",
       "    </tr>\n",
       "  </thead>\n",
       "  <tbody>\n",
       "    <tr>\n",
       "      <th>0</th>\n",
       "      <td>7</td>\n",
       "      <td>07-07069339</td>\n",
       "      <td>7069339</td>\n",
       "      <td>PERRY FACE FLATBILL LRG/XLRG</td>\n",
       "      <td>ZZZ</td>\n",
       "      <td>RETIRED</td>\n",
       "      <td>Spencers</td>\n",
       "      <td>MD1</td>\n",
       "      <td>RETIRED MERCH MANAGER 1</td>\n",
       "      <td>NaN</td>\n",
       "      <td>0</td>\n",
       "      <td>NaN</td>\n",
       "      <td>NaN</td>\n",
       "      <td>1</td>\n",
       "      <td>NaN</td>\n",
       "      <td>NaN</td>\n",
       "      <td>NaN</td>\n",
       "      <td>NaN</td>\n",
       "      <td>NaN</td>\n",
       "      <td>NaN</td>\n",
       "      <td>NaN</td>\n",
       "      <td>NaN</td>\n",
       "      <td>NaN</td>\n",
       "      <td>NaN</td>\n",
       "      <td>NaN</td>\n",
       "      <td>NaN</td>\n",
       "      <td>0.0</td>\n",
       "      <td>NaN</td>\n",
       "      <td>0.00</td>\n",
       "      <td>0.0</td>\n",
       "      <td>NaN</td>\n",
       "    </tr>\n",
       "    <tr>\n",
       "      <th>1</th>\n",
       "      <td>7</td>\n",
       "      <td>07-07069347</td>\n",
       "      <td>7069347</td>\n",
       "      <td>THING 1/2 FLATBILL MED/LRG</td>\n",
       "      <td>ZZZ</td>\n",
       "      <td>RETIRED</td>\n",
       "      <td>Spencers</td>\n",
       "      <td>MD1</td>\n",
       "      <td>RETIRED MERCH MANAGER 1</td>\n",
       "      <td>NaN</td>\n",
       "      <td>0</td>\n",
       "      <td>NaN</td>\n",
       "      <td>NaN</td>\n",
       "      <td>1</td>\n",
       "      <td>NaN</td>\n",
       "      <td>NaN</td>\n",
       "      <td>NaN</td>\n",
       "      <td>NaN</td>\n",
       "      <td>NaN</td>\n",
       "      <td>NaN</td>\n",
       "      <td>NaN</td>\n",
       "      <td>NaN</td>\n",
       "      <td>NaN</td>\n",
       "      <td>NaN</td>\n",
       "      <td>NaN</td>\n",
       "      <td>NaN</td>\n",
       "      <td>0.0</td>\n",
       "      <td>NaN</td>\n",
       "      <td>19.99</td>\n",
       "      <td>7.0</td>\n",
       "      <td>NaN</td>\n",
       "    </tr>\n",
       "    <tr>\n",
       "      <th>2</th>\n",
       "      <td>7</td>\n",
       "      <td>07-07069354</td>\n",
       "      <td>7069354</td>\n",
       "      <td>THING 1/2 FLATBILL LRG/XLRG</td>\n",
       "      <td>ZZZ</td>\n",
       "      <td>RETIRED</td>\n",
       "      <td>Spencers</td>\n",
       "      <td>MD1</td>\n",
       "      <td>RETIRED MERCH MANAGER 1</td>\n",
       "      <td>NaN</td>\n",
       "      <td>0</td>\n",
       "      <td>NaN</td>\n",
       "      <td>NaN</td>\n",
       "      <td>1</td>\n",
       "      <td>NaN</td>\n",
       "      <td>NaN</td>\n",
       "      <td>NaN</td>\n",
       "      <td>NaN</td>\n",
       "      <td>NaN</td>\n",
       "      <td>NaN</td>\n",
       "      <td>NaN</td>\n",
       "      <td>NaN</td>\n",
       "      <td>NaN</td>\n",
       "      <td>NaN</td>\n",
       "      <td>NaN</td>\n",
       "      <td>NaN</td>\n",
       "      <td>0.0</td>\n",
       "      <td>NaN</td>\n",
       "      <td>19.99</td>\n",
       "      <td>7.0</td>\n",
       "      <td>NaN</td>\n",
       "    </tr>\n",
       "    <tr>\n",
       "      <th>3</th>\n",
       "      <td>7</td>\n",
       "      <td>07-07069362</td>\n",
       "      <td>7069362</td>\n",
       "      <td>CAT IN THE HAT FB MED/LRG</td>\n",
       "      <td>ZZZ</td>\n",
       "      <td>RETIRED</td>\n",
       "      <td>Spencers</td>\n",
       "      <td>MD1</td>\n",
       "      <td>RETIRED MERCH MANAGER 1</td>\n",
       "      <td>NaN</td>\n",
       "      <td>0</td>\n",
       "      <td>NaN</td>\n",
       "      <td>NaN</td>\n",
       "      <td>1</td>\n",
       "      <td>NaN</td>\n",
       "      <td>NaN</td>\n",
       "      <td>NaN</td>\n",
       "      <td>NaN</td>\n",
       "      <td>NaN</td>\n",
       "      <td>NaN</td>\n",
       "      <td>NaN</td>\n",
       "      <td>NaN</td>\n",
       "      <td>NaN</td>\n",
       "      <td>NaN</td>\n",
       "      <td>NaN</td>\n",
       "      <td>NaN</td>\n",
       "      <td>0.0</td>\n",
       "      <td>NaN</td>\n",
       "      <td>19.99</td>\n",
       "      <td>7.0</td>\n",
       "      <td>NaN</td>\n",
       "    </tr>\n",
       "    <tr>\n",
       "      <th>4</th>\n",
       "      <td>7</td>\n",
       "      <td>07-07069370</td>\n",
       "      <td>7069370</td>\n",
       "      <td>CAT IN THE HAT FB LRG/XLRG</td>\n",
       "      <td>ZZZ</td>\n",
       "      <td>RETIRED</td>\n",
       "      <td>Spencers</td>\n",
       "      <td>MD1</td>\n",
       "      <td>RETIRED MERCH MANAGER 1</td>\n",
       "      <td>NaN</td>\n",
       "      <td>0</td>\n",
       "      <td>NaN</td>\n",
       "      <td>NaN</td>\n",
       "      <td>1</td>\n",
       "      <td>NaN</td>\n",
       "      <td>NaN</td>\n",
       "      <td>NaN</td>\n",
       "      <td>NaN</td>\n",
       "      <td>NaN</td>\n",
       "      <td>NaN</td>\n",
       "      <td>NaN</td>\n",
       "      <td>NaN</td>\n",
       "      <td>NaN</td>\n",
       "      <td>NaN</td>\n",
       "      <td>NaN</td>\n",
       "      <td>NaN</td>\n",
       "      <td>0.0</td>\n",
       "      <td>NaN</td>\n",
       "      <td>19.99</td>\n",
       "      <td>7.0</td>\n",
       "      <td>NaN</td>\n",
       "    </tr>\n",
       "  </tbody>\n",
       "</table>\n",
       "</div>"
      ],
      "text/plain": [
       "   Lob Lob_SKU_Concat      Sku                   Description Dept_ID  \\\n",
       "0    7    07-07069339  7069339  PERRY FACE FLATBILL LRG/XLRG     ZZZ   \n",
       "1    7    07-07069347  7069347    THING 1/2 FLATBILL MED/LRG     ZZZ   \n",
       "2    7    07-07069354  7069354   THING 1/2 FLATBILL LRG/XLRG     ZZZ   \n",
       "3    7    07-07069362  7069362     CAT IN THE HAT FB MED/LRG     ZZZ   \n",
       "4    7    07-07069370  7069370    CAT IN THE HAT FB LRG/XLRG     ZZZ   \n",
       "\n",
       "  Dept_Name     Brand Class_ID               Class_Name  UOM  Each_Case  \\\n",
       "0   RETIRED  Spencers      MD1  RETIRED MERCH MANAGER 1  NaN          0   \n",
       "1   RETIRED  Spencers      MD1  RETIRED MERCH MANAGER 1  NaN          0   \n",
       "2   RETIRED  Spencers      MD1  RETIRED MERCH MANAGER 1  NaN          0   \n",
       "3   RETIRED  Spencers      MD1  RETIRED MERCH MANAGER 1  NaN          0   \n",
       "4   RETIRED  Spencers      MD1  RETIRED MERCH MANAGER 1  NaN          0   \n",
       "\n",
       "   Each_InrPk  InrPk_Case  Shelf_Pack  Item_Hgt  Item_Lgh  Item_Wdh  Inpk_Hgt  \\\n",
       "0         NaN         NaN           1       NaN       NaN       NaN       NaN   \n",
       "1         NaN         NaN           1       NaN       NaN       NaN       NaN   \n",
       "2         NaN         NaN           1       NaN       NaN       NaN       NaN   \n",
       "3         NaN         NaN           1       NaN       NaN       NaN       NaN   \n",
       "4         NaN         NaN           1       NaN       NaN       NaN       NaN   \n",
       "\n",
       "   Inpk_Lgh  Inpk_Wdh  Inpk_Wgt  Inpk_Cub  Mspk_Hgt  Mspk_Lgh  Mspk_Wdh  \\\n",
       "0       NaN       NaN       NaN       NaN       NaN       NaN       NaN   \n",
       "1       NaN       NaN       NaN       NaN       NaN       NaN       NaN   \n",
       "2       NaN       NaN       NaN       NaN       NaN       NaN       NaN   \n",
       "3       NaN       NaN       NaN       NaN       NaN       NaN       NaN   \n",
       "4       NaN       NaN       NaN       NaN       NaN       NaN       NaN   \n",
       "\n",
       "   Mspk_Wgt  Mspk_Cub Prpk  BASERETL  AVGCOST Velocity  \n",
       "0       NaN       0.0  NaN      0.00      0.0      NaN  \n",
       "1       NaN       0.0  NaN     19.99      7.0      NaN  \n",
       "2       NaN       0.0  NaN     19.99      7.0      NaN  \n",
       "3       NaN       0.0  NaN     19.99      7.0      NaN  \n",
       "4       NaN       0.0  NaN     19.99      7.0      NaN  "
      ]
     },
     "execution_count": 36,
     "metadata": {},
     "output_type": "execute_result"
    }
   ],
   "source": [
    "SKUData.head()"
   ]
  },
  {
   "cell_type": "markdown",
   "metadata": {},
   "source": [
    "<a id=\"32\"></a> <br>\n",
    "# DataFrame Information\n",
    "Pandas dataframe.info() function is used to get a concise summary of the dataframe. It comes really handy when doing exploratory analysis of the data. To get a quick overview of the dataset we use the dataframe.info() function.\n",
    "\n",
    "### MISSING DATA and TESTING WITH ASSERT\n",
    "If we encounter with missing data, what we can do:\n",
    "* leave as is\n",
    "* drop them with dropna()\n",
    "* fill missing value with fillna()\n",
    "* fill missing values with test statistics like mean\n",
    "<br>Assert statement: check that you can turn on or turn off when you are done with your testing of the program"
   ]
  },
  {
   "cell_type": "code",
   "execution_count": 37,
   "metadata": {
    "collapsed": false
   },
   "outputs": [
    {
     "name": "stdout",
     "output_type": "stream",
     "text": [
      "<class 'pandas.core.frame.DataFrame'>\n",
      "RangeIndex: 211692 entries, 0 to 211691\n",
      "Data columns (total 31 columns):\n",
      "Lob               211692 non-null int64\n",
      "Lob_SKU_Concat    211692 non-null object\n",
      "Sku               211692 non-null int64\n",
      "Description       211675 non-null object\n",
      "Dept_ID           211675 non-null object\n",
      "Dept_Name         211692 non-null object\n",
      "Brand             211675 non-null object\n",
      "Class_ID          211675 non-null object\n",
      "Class_Name        211692 non-null object\n",
      "UOM               202095 non-null object\n",
      "Each_Case         211692 non-null int64\n",
      "Each_InrPk        202095 non-null float64\n",
      "InrPk_Case        202095 non-null float64\n",
      "Shelf_Pack        211692 non-null int64\n",
      "Item_Hgt          144727 non-null float64\n",
      "Item_Lgh          144727 non-null float64\n",
      "Item_Wdh          144727 non-null float64\n",
      "Inpk_Hgt          206193 non-null float64\n",
      "Inpk_Lgh          206193 non-null float64\n",
      "Inpk_Wdh          206193 non-null float64\n",
      "Inpk_Wgt          206196 non-null float64\n",
      "Inpk_Cub          205802 non-null float64\n",
      "Mspk_Hgt          206196 non-null float64\n",
      "Mspk_Lgh          206196 non-null float64\n",
      "Mspk_Wdh          206196 non-null float64\n",
      "Mspk_Wgt          206196 non-null float64\n",
      "Mspk_Cub          211692 non-null float64\n",
      "Prpk              13804 non-null object\n",
      "BASERETL          211692 non-null float64\n",
      "AVGCOST           211692 non-null float64\n",
      "Velocity          40288 non-null object\n",
      "dtypes: float64(17), int64(4), object(10)\n",
      "memory usage: 50.1+ MB\n"
     ]
    }
   ],
   "source": [
    "SKUData.info()"
   ]
  },
  {
   "cell_type": "markdown",
   "metadata": {},
   "source": [
    "<a id=\"33\"></a> <br>\n",
    "# DataFrame Description\n",
    "\n",
    "DataFrame.describe() generates descriptive statistics that summarize the central tendency, dispersion and shape of a dataset’s distribution, excluding NaN values. It analyzes both numeric and object series, as well as DataFrame column sets of mixed data types. The output will vary depending on what is provided. Refer to the notes below for more detail.\n",
    "\n",
    "* Lets say value at 75% is Q3 and value at 25% is Q1. \n",
    "* Outlier are smaller than Q1 - 1.5(Q3-Q1) and bigger than Q3 + 1.5(Q3-Q1). (Q3-Q1) = IQR\n",
    "\n",
    "* count: number of entries\n",
    "* mean: average of entries\n",
    "* std: standart deviation\n",
    "* min: minimum entry\n",
    "* 25%: first quantile\n",
    "* 50%: median or second quantile\n",
    "* 75%: third quantile\n",
    "* max: maximum entry"
   ]
  },
  {
   "cell_type": "code",
   "execution_count": 38,
   "metadata": {
    "collapsed": false
   },
   "outputs": [
    {
     "data": {
      "text/html": [
       "<div>\n",
       "<style scoped>\n",
       "    .dataframe tbody tr th:only-of-type {\n",
       "        vertical-align: middle;\n",
       "    }\n",
       "\n",
       "    .dataframe tbody tr th {\n",
       "        vertical-align: top;\n",
       "    }\n",
       "\n",
       "    .dataframe thead th {\n",
       "        text-align: right;\n",
       "    }\n",
       "</style>\n",
       "<table border=\"1\" class=\"dataframe\">\n",
       "  <thead>\n",
       "    <tr style=\"text-align: right;\">\n",
       "      <th></th>\n",
       "      <th>Lob</th>\n",
       "      <th>Sku</th>\n",
       "      <th>Each_Case</th>\n",
       "      <th>Each_InrPk</th>\n",
       "      <th>InrPk_Case</th>\n",
       "      <th>Shelf_Pack</th>\n",
       "      <th>Item_Hgt</th>\n",
       "      <th>Item_Lgh</th>\n",
       "      <th>Item_Wdh</th>\n",
       "      <th>Inpk_Hgt</th>\n",
       "      <th>Inpk_Lgh</th>\n",
       "      <th>Inpk_Wdh</th>\n",
       "      <th>Inpk_Wgt</th>\n",
       "      <th>Inpk_Cub</th>\n",
       "      <th>Mspk_Hgt</th>\n",
       "      <th>Mspk_Lgh</th>\n",
       "      <th>Mspk_Wdh</th>\n",
       "      <th>Mspk_Wgt</th>\n",
       "      <th>Mspk_Cub</th>\n",
       "      <th>BASERETL</th>\n",
       "      <th>AVGCOST</th>\n",
       "    </tr>\n",
       "  </thead>\n",
       "  <tbody>\n",
       "    <tr>\n",
       "      <th>count</th>\n",
       "      <td>211692.0</td>\n",
       "      <td>2.116920e+05</td>\n",
       "      <td>211692.000000</td>\n",
       "      <td>202095.000000</td>\n",
       "      <td>202095.000000</td>\n",
       "      <td>211692.000000</td>\n",
       "      <td>144727.000000</td>\n",
       "      <td>144727.000000</td>\n",
       "      <td>144727.000000</td>\n",
       "      <td>206193.000000</td>\n",
       "      <td>206193.000000</td>\n",
       "      <td>206193.000000</td>\n",
       "      <td>206196.000000</td>\n",
       "      <td>205802.000000</td>\n",
       "      <td>206196.000000</td>\n",
       "      <td>206196.000000</td>\n",
       "      <td>206196.000000</td>\n",
       "      <td>206196.000000</td>\n",
       "      <td>211692.000000</td>\n",
       "      <td>211692.000000</td>\n",
       "      <td>211692.000000</td>\n",
       "    </tr>\n",
       "    <tr>\n",
       "      <th>mean</th>\n",
       "      <td>7.0</td>\n",
       "      <td>3.597583e+06</td>\n",
       "      <td>111.439299</td>\n",
       "      <td>1.567599</td>\n",
       "      <td>107.281427</td>\n",
       "      <td>1.475894</td>\n",
       "      <td>8.387156</td>\n",
       "      <td>2.106900</td>\n",
       "      <td>6.070971</td>\n",
       "      <td>0.170292</td>\n",
       "      <td>0.174727</td>\n",
       "      <td>0.168587</td>\n",
       "      <td>0.152191</td>\n",
       "      <td>0.101817</td>\n",
       "      <td>10.284811</td>\n",
       "      <td>11.943267</td>\n",
       "      <td>10.480966</td>\n",
       "      <td>20.848272</td>\n",
       "      <td>1.303481</td>\n",
       "      <td>16.596505</td>\n",
       "      <td>6.650548</td>\n",
       "    </tr>\n",
       "    <tr>\n",
       "      <th>std</th>\n",
       "      <td>0.0</td>\n",
       "      <td>2.298176e+06</td>\n",
       "      <td>256.217923</td>\n",
       "      <td>16.137099</td>\n",
       "      <td>248.684231</td>\n",
       "      <td>1.813487</td>\n",
       "      <td>6.433053</td>\n",
       "      <td>4.014332</td>\n",
       "      <td>6.714019</td>\n",
       "      <td>0.633415</td>\n",
       "      <td>0.581367</td>\n",
       "      <td>0.483816</td>\n",
       "      <td>0.422868</td>\n",
       "      <td>0.094964</td>\n",
       "      <td>10.648170</td>\n",
       "      <td>8.183243</td>\n",
       "      <td>6.886206</td>\n",
       "      <td>27.677720</td>\n",
       "      <td>2.628587</td>\n",
       "      <td>24.232524</td>\n",
       "      <td>11.621572</td>\n",
       "    </tr>\n",
       "    <tr>\n",
       "      <th>min</th>\n",
       "      <td>7.0</td>\n",
       "      <td>1.013200e+04</td>\n",
       "      <td>0.000000</td>\n",
       "      <td>1.000000</td>\n",
       "      <td>1.000000</td>\n",
       "      <td>1.000000</td>\n",
       "      <td>0.000000</td>\n",
       "      <td>0.000000</td>\n",
       "      <td>0.000000</td>\n",
       "      <td>0.000000</td>\n",
       "      <td>0.000000</td>\n",
       "      <td>0.000000</td>\n",
       "      <td>0.000000</td>\n",
       "      <td>0.000000</td>\n",
       "      <td>0.000000</td>\n",
       "      <td>0.100000</td>\n",
       "      <td>0.100000</td>\n",
       "      <td>0.000000</td>\n",
       "      <td>0.000000</td>\n",
       "      <td>0.000000</td>\n",
       "      <td>0.000000</td>\n",
       "    </tr>\n",
       "    <tr>\n",
       "      <th>25%</th>\n",
       "      <td>7.0</td>\n",
       "      <td>2.202024e+06</td>\n",
       "      <td>1.000000</td>\n",
       "      <td>1.000000</td>\n",
       "      <td>1.000000</td>\n",
       "      <td>1.000000</td>\n",
       "      <td>2.500000</td>\n",
       "      <td>0.100000</td>\n",
       "      <td>1.500000</td>\n",
       "      <td>0.100000</td>\n",
       "      <td>0.100000</td>\n",
       "      <td>0.100000</td>\n",
       "      <td>0.100000</td>\n",
       "      <td>0.100000</td>\n",
       "      <td>6.000000</td>\n",
       "      <td>7.900000</td>\n",
       "      <td>8.000000</td>\n",
       "      <td>5.000000</td>\n",
       "      <td>0.100000</td>\n",
       "      <td>0.010000</td>\n",
       "      <td>0.010000</td>\n",
       "    </tr>\n",
       "    <tr>\n",
       "      <th>50%</th>\n",
       "      <td>7.0</td>\n",
       "      <td>2.890743e+06</td>\n",
       "      <td>12.000000</td>\n",
       "      <td>1.000000</td>\n",
       "      <td>12.000000</td>\n",
       "      <td>1.000000</td>\n",
       "      <td>9.000000</td>\n",
       "      <td>1.000000</td>\n",
       "      <td>6.000000</td>\n",
       "      <td>0.100000</td>\n",
       "      <td>0.100000</td>\n",
       "      <td>0.100000</td>\n",
       "      <td>0.100000</td>\n",
       "      <td>0.100000</td>\n",
       "      <td>10.000000</td>\n",
       "      <td>10.000000</td>\n",
       "      <td>10.000000</td>\n",
       "      <td>10.000000</td>\n",
       "      <td>0.500000</td>\n",
       "      <td>12.980000</td>\n",
       "      <td>4.000000</td>\n",
       "    </tr>\n",
       "    <tr>\n",
       "      <th>75%</th>\n",
       "      <td>7.0</td>\n",
       "      <td>7.017298e+06</td>\n",
       "      <td>60.000000</td>\n",
       "      <td>1.000000</td>\n",
       "      <td>60.000000</td>\n",
       "      <td>1.000000</td>\n",
       "      <td>13.900000</td>\n",
       "      <td>1.600000</td>\n",
       "      <td>10.900000</td>\n",
       "      <td>0.100000</td>\n",
       "      <td>0.100000</td>\n",
       "      <td>0.100000</td>\n",
       "      <td>0.100000</td>\n",
       "      <td>0.100000</td>\n",
       "      <td>14.000000</td>\n",
       "      <td>17.700000</td>\n",
       "      <td>14.500000</td>\n",
       "      <td>26.000000</td>\n",
       "      <td>2.100000</td>\n",
       "      <td>21.990000</td>\n",
       "      <td>8.750000</td>\n",
       "    </tr>\n",
       "    <tr>\n",
       "      <th>max</th>\n",
       "      <td>7.0</td>\n",
       "      <td>8.188864e+06</td>\n",
       "      <td>30000.000000</td>\n",
       "      <td>6000.000000</td>\n",
       "      <td>999.000000</td>\n",
       "      <td>300.000000</td>\n",
       "      <td>288.000000</td>\n",
       "      <td>236.000000</td>\n",
       "      <td>1737.000000</td>\n",
       "      <td>187.500000</td>\n",
       "      <td>70.400000</td>\n",
       "      <td>32.000000</td>\n",
       "      <td>67.000000</td>\n",
       "      <td>35.200000</td>\n",
       "      <td>2420.000000</td>\n",
       "      <td>236.000000</td>\n",
       "      <td>187.500000</td>\n",
       "      <td>2029.000000</td>\n",
       "      <td>421.800000</td>\n",
       "      <td>1299.990000</td>\n",
       "      <td>713.330000</td>\n",
       "    </tr>\n",
       "  </tbody>\n",
       "</table>\n",
       "</div>"
      ],
      "text/plain": [
       "            Lob           Sku      Each_Case     Each_InrPk     InrPk_Case  \\\n",
       "count  211692.0  2.116920e+05  211692.000000  202095.000000  202095.000000   \n",
       "mean        7.0  3.597583e+06     111.439299       1.567599     107.281427   \n",
       "std         0.0  2.298176e+06     256.217923      16.137099     248.684231   \n",
       "min         7.0  1.013200e+04       0.000000       1.000000       1.000000   \n",
       "25%         7.0  2.202024e+06       1.000000       1.000000       1.000000   \n",
       "50%         7.0  2.890743e+06      12.000000       1.000000      12.000000   \n",
       "75%         7.0  7.017298e+06      60.000000       1.000000      60.000000   \n",
       "max         7.0  8.188864e+06   30000.000000    6000.000000     999.000000   \n",
       "\n",
       "          Shelf_Pack       Item_Hgt       Item_Lgh       Item_Wdh  \\\n",
       "count  211692.000000  144727.000000  144727.000000  144727.000000   \n",
       "mean        1.475894       8.387156       2.106900       6.070971   \n",
       "std         1.813487       6.433053       4.014332       6.714019   \n",
       "min         1.000000       0.000000       0.000000       0.000000   \n",
       "25%         1.000000       2.500000       0.100000       1.500000   \n",
       "50%         1.000000       9.000000       1.000000       6.000000   \n",
       "75%         1.000000      13.900000       1.600000      10.900000   \n",
       "max       300.000000     288.000000     236.000000    1737.000000   \n",
       "\n",
       "            Inpk_Hgt       Inpk_Lgh       Inpk_Wdh       Inpk_Wgt  \\\n",
       "count  206193.000000  206193.000000  206193.000000  206196.000000   \n",
       "mean        0.170292       0.174727       0.168587       0.152191   \n",
       "std         0.633415       0.581367       0.483816       0.422868   \n",
       "min         0.000000       0.000000       0.000000       0.000000   \n",
       "25%         0.100000       0.100000       0.100000       0.100000   \n",
       "50%         0.100000       0.100000       0.100000       0.100000   \n",
       "75%         0.100000       0.100000       0.100000       0.100000   \n",
       "max       187.500000      70.400000      32.000000      67.000000   \n",
       "\n",
       "            Inpk_Cub       Mspk_Hgt       Mspk_Lgh       Mspk_Wdh  \\\n",
       "count  205802.000000  206196.000000  206196.000000  206196.000000   \n",
       "mean        0.101817      10.284811      11.943267      10.480966   \n",
       "std         0.094964      10.648170       8.183243       6.886206   \n",
       "min         0.000000       0.000000       0.100000       0.100000   \n",
       "25%         0.100000       6.000000       7.900000       8.000000   \n",
       "50%         0.100000      10.000000      10.000000      10.000000   \n",
       "75%         0.100000      14.000000      17.700000      14.500000   \n",
       "max        35.200000    2420.000000     236.000000     187.500000   \n",
       "\n",
       "            Mspk_Wgt       Mspk_Cub       BASERETL        AVGCOST  \n",
       "count  206196.000000  211692.000000  211692.000000  211692.000000  \n",
       "mean       20.848272       1.303481      16.596505       6.650548  \n",
       "std        27.677720       2.628587      24.232524      11.621572  \n",
       "min         0.000000       0.000000       0.000000       0.000000  \n",
       "25%         5.000000       0.100000       0.010000       0.010000  \n",
       "50%        10.000000       0.500000      12.980000       4.000000  \n",
       "75%        26.000000       2.100000      21.990000       8.750000  \n",
       "max      2029.000000     421.800000    1299.990000     713.330000  "
      ]
     },
     "execution_count": 38,
     "metadata": {},
     "output_type": "execute_result"
    }
   ],
   "source": [
    "SKUData.describe()"
   ]
  },
  {
   "cell_type": "markdown",
   "metadata": {},
   "source": [
    "<a id=\"34\"></a> <br>\n",
    "# Reduce size of DataFrame\n",
    "First, we examine the columns in our data and make sure their labels intuitively convey what they represent. You can selects the required order data columns to reduce its size and then change the columns' names for convenience."
   ]
  },
  {
   "cell_type": "code",
   "execution_count": 39,
   "metadata": {
    "collapsed": false
   },
   "outputs": [
    {
     "data": {
      "text/html": [
       "<div>\n",
       "<style scoped>\n",
       "    .dataframe tbody tr th:only-of-type {\n",
       "        vertical-align: middle;\n",
       "    }\n",
       "\n",
       "    .dataframe tbody tr th {\n",
       "        vertical-align: top;\n",
       "    }\n",
       "\n",
       "    .dataframe thead th {\n",
       "        text-align: right;\n",
       "    }\n",
       "</style>\n",
       "<table border=\"1\" class=\"dataframe\">\n",
       "  <thead>\n",
       "    <tr style=\"text-align: right;\">\n",
       "      <th></th>\n",
       "      <th>AVGCOST</th>\n",
       "      <th>Brand</th>\n",
       "      <th>Dept_Name</th>\n",
       "      <th>Item_Hgt</th>\n",
       "      <th>Item_Lgh</th>\n",
       "      <th>Item_Wdh</th>\n",
       "      <th>SKUIDs</th>\n",
       "      <th>Velocity</th>\n",
       "    </tr>\n",
       "  </thead>\n",
       "  <tbody>\n",
       "    <tr>\n",
       "      <th>0</th>\n",
       "      <td>0.0</td>\n",
       "      <td>Spencers</td>\n",
       "      <td>RETIRED</td>\n",
       "      <td>NaN</td>\n",
       "      <td>NaN</td>\n",
       "      <td>NaN</td>\n",
       "      <td>7069339</td>\n",
       "      <td>NaN</td>\n",
       "    </tr>\n",
       "    <tr>\n",
       "      <th>1</th>\n",
       "      <td>7.0</td>\n",
       "      <td>Spencers</td>\n",
       "      <td>RETIRED</td>\n",
       "      <td>NaN</td>\n",
       "      <td>NaN</td>\n",
       "      <td>NaN</td>\n",
       "      <td>7069347</td>\n",
       "      <td>NaN</td>\n",
       "    </tr>\n",
       "    <tr>\n",
       "      <th>2</th>\n",
       "      <td>7.0</td>\n",
       "      <td>Spencers</td>\n",
       "      <td>RETIRED</td>\n",
       "      <td>NaN</td>\n",
       "      <td>NaN</td>\n",
       "      <td>NaN</td>\n",
       "      <td>7069354</td>\n",
       "      <td>NaN</td>\n",
       "    </tr>\n",
       "    <tr>\n",
       "      <th>3</th>\n",
       "      <td>7.0</td>\n",
       "      <td>Spencers</td>\n",
       "      <td>RETIRED</td>\n",
       "      <td>NaN</td>\n",
       "      <td>NaN</td>\n",
       "      <td>NaN</td>\n",
       "      <td>7069362</td>\n",
       "      <td>NaN</td>\n",
       "    </tr>\n",
       "    <tr>\n",
       "      <th>4</th>\n",
       "      <td>7.0</td>\n",
       "      <td>Spencers</td>\n",
       "      <td>RETIRED</td>\n",
       "      <td>NaN</td>\n",
       "      <td>NaN</td>\n",
       "      <td>NaN</td>\n",
       "      <td>7069370</td>\n",
       "      <td>NaN</td>\n",
       "    </tr>\n",
       "  </tbody>\n",
       "</table>\n",
       "</div>"
      ],
      "text/plain": [
       "   AVGCOST     Brand Dept_Name  Item_Hgt  Item_Lgh  Item_Wdh   SKUIDs Velocity\n",
       "0      0.0  Spencers   RETIRED       NaN       NaN       NaN  7069339      NaN\n",
       "1      7.0  Spencers   RETIRED       NaN       NaN       NaN  7069347      NaN\n",
       "2      7.0  Spencers   RETIRED       NaN       NaN       NaN  7069354      NaN\n",
       "3      7.0  Spencers   RETIRED       NaN       NaN       NaN  7069362      NaN\n",
       "4      7.0  Spencers   RETIRED       NaN       NaN       NaN  7069370      NaN"
      ]
     },
     "execution_count": 39,
     "metadata": {},
     "output_type": "execute_result"
    }
   ],
   "source": [
    "SKUdf = pd.DataFrame({'SKUIDs': SKUData.Sku, 'Item_Hgt': SKUData.Item_Hgt,'Item_Lgh': SKUData.Item_Lgh,'Item_Wdh': SKUData.Item_Wdh,'Dept_Name': SKUData.Dept_Name,'Velocity': SKUData.Velocity,'AVGCOST': SKUData.AVGCOST, 'Brand': SKUData.Brand})\n",
    "SKUdf.head()"
   ]
  },
  {
   "cell_type": "markdown",
   "metadata": {},
   "source": [
    "<a id=\"35\"></a> <br>\n",
    "# Box plot for items' dimensions\n",
    "* Box plots: visualize basic statistics like outliers, min/max or quantiles"
   ]
  },
  {
   "cell_type": "code",
   "execution_count": 40,
   "metadata": {
    "collapsed": false
   },
   "outputs": [
    {
     "data": {
      "text/plain": [
       "<matplotlib.axes._subplots.AxesSubplot at 0x6c04e550>"
      ]
     },
     "execution_count": 40,
     "metadata": {},
     "output_type": "execute_result"
    },
    {
     "data": {
      "image/png": "[encoded data removed]",
      "text/plain": [
       "<Figure size 1800x600 with 1 Axes>"
      ]
     },
     "metadata": {},
     "output_type": "display_data"
    }
   ],
   "source": [
    "SKUdf.boxplot(column=['Item_Hgt', 'Item_Lgh', 'Item_Wdh'], vert=False, showfliers=False, figsize = (18,6))"
   ]
  },
  {
   "cell_type": "markdown",
   "metadata": {},
   "source": [
    "<a id=\"36\"></a> <br>\n",
    "# Merge SKU profile and order data"
   ]
  },
  {
   "cell_type": "code",
   "execution_count": 41,
   "metadata": {
    "collapsed": false
   },
   "outputs": [
    {
     "data": {
      "text/html": [
       "<div>\n",
       "<style scoped>\n",
       "    .dataframe tbody tr th:only-of-type {\n",
       "        vertical-align: middle;\n",
       "    }\n",
       "\n",
       "    .dataframe tbody tr th {\n",
       "        vertical-align: top;\n",
       "    }\n",
       "\n",
       "    .dataframe thead th {\n",
       "        text-align: right;\n",
       "    }\n",
       "</style>\n",
       "<table border=\"1\" class=\"dataframe\">\n",
       "  <thead>\n",
       "    <tr style=\"text-align: right;\">\n",
       "      <th></th>\n",
       "      <th>DAY</th>\n",
       "      <th>LOC</th>\n",
       "      <th>QTY</th>\n",
       "      <th>SKUIDs</th>\n",
       "      <th>orNo</th>\n",
       "      <th>Lines</th>\n",
       "      <th>sumQTY</th>\n",
       "      <th>SingleMulti</th>\n",
       "      <th>AVGCOST</th>\n",
       "      <th>Brand</th>\n",
       "      <th>Dept_Name</th>\n",
       "      <th>Item_Hgt</th>\n",
       "      <th>Item_Lgh</th>\n",
       "      <th>Item_Wdh</th>\n",
       "      <th>Velocity</th>\n",
       "    </tr>\n",
       "  </thead>\n",
       "  <tbody>\n",
       "    <tr>\n",
       "      <th>0</th>\n",
       "      <td>2018-09-13</td>\n",
       "      <td>CO</td>\n",
       "      <td>250.0</td>\n",
       "      <td>132324</td>\n",
       "      <td>502371350.0</td>\n",
       "      <td>1.0</td>\n",
       "      <td>250.0</td>\n",
       "      <td>SM</td>\n",
       "      <td>0.53</td>\n",
       "      <td>Spirit</td>\n",
       "      <td>ENTERTAINMENT ACCESSORIES</td>\n",
       "      <td>9.0</td>\n",
       "      <td>7.0</td>\n",
       "      <td>4.75</td>\n",
       "      <td>A+</td>\n",
       "    </tr>\n",
       "    <tr>\n",
       "      <th>1</th>\n",
       "      <td>2018-10-13</td>\n",
       "      <td>FL</td>\n",
       "      <td>4.0</td>\n",
       "      <td>132324</td>\n",
       "      <td>502613149.0</td>\n",
       "      <td>4.0</td>\n",
       "      <td>7.0</td>\n",
       "      <td>MM</td>\n",
       "      <td>0.53</td>\n",
       "      <td>Spirit</td>\n",
       "      <td>ENTERTAINMENT ACCESSORIES</td>\n",
       "      <td>9.0</td>\n",
       "      <td>7.0</td>\n",
       "      <td>4.75</td>\n",
       "      <td>A+</td>\n",
       "    </tr>\n",
       "    <tr>\n",
       "      <th>2</th>\n",
       "      <td>2018-09-12</td>\n",
       "      <td>PA</td>\n",
       "      <td>4.0</td>\n",
       "      <td>132324</td>\n",
       "      <td>502365087.0</td>\n",
       "      <td>6.0</td>\n",
       "      <td>9.0</td>\n",
       "      <td>MM</td>\n",
       "      <td>0.53</td>\n",
       "      <td>Spirit</td>\n",
       "      <td>ENTERTAINMENT ACCESSORIES</td>\n",
       "      <td>9.0</td>\n",
       "      <td>7.0</td>\n",
       "      <td>4.75</td>\n",
       "      <td>A+</td>\n",
       "    </tr>\n",
       "    <tr>\n",
       "      <th>3</th>\n",
       "      <td>2018-09-25</td>\n",
       "      <td>ON</td>\n",
       "      <td>2.0</td>\n",
       "      <td>132324</td>\n",
       "      <td>502438619.0</td>\n",
       "      <td>7.0</td>\n",
       "      <td>8.0</td>\n",
       "      <td>MM</td>\n",
       "      <td>0.53</td>\n",
       "      <td>Spirit</td>\n",
       "      <td>ENTERTAINMENT ACCESSORIES</td>\n",
       "      <td>9.0</td>\n",
       "      <td>7.0</td>\n",
       "      <td>4.75</td>\n",
       "      <td>A+</td>\n",
       "    </tr>\n",
       "    <tr>\n",
       "      <th>4</th>\n",
       "      <td>2018-09-25</td>\n",
       "      <td>WA</td>\n",
       "      <td>2.0</td>\n",
       "      <td>132324</td>\n",
       "      <td>502439782.0</td>\n",
       "      <td>3.0</td>\n",
       "      <td>4.0</td>\n",
       "      <td>MM</td>\n",
       "      <td>0.53</td>\n",
       "      <td>Spirit</td>\n",
       "      <td>ENTERTAINMENT ACCESSORIES</td>\n",
       "      <td>9.0</td>\n",
       "      <td>7.0</td>\n",
       "      <td>4.75</td>\n",
       "      <td>A+</td>\n",
       "    </tr>\n",
       "  </tbody>\n",
       "</table>\n",
       "</div>"
      ],
      "text/plain": [
       "         DAY LOC    QTY  SKUIDs         orNo  Lines  sumQTY SingleMulti  \\\n",
       "0 2018-09-13  CO  250.0  132324  502371350.0    1.0   250.0          SM   \n",
       "1 2018-10-13  FL    4.0  132324  502613149.0    4.0     7.0          MM   \n",
       "2 2018-09-12  PA    4.0  132324  502365087.0    6.0     9.0          MM   \n",
       "3 2018-09-25  ON    2.0  132324  502438619.0    7.0     8.0          MM   \n",
       "4 2018-09-25  WA    2.0  132324  502439782.0    3.0     4.0          MM   \n",
       "\n",
       "   AVGCOST   Brand                  Dept_Name  Item_Hgt  Item_Lgh  Item_Wdh  \\\n",
       "0     0.53  Spirit  ENTERTAINMENT ACCESSORIES       9.0       7.0      4.75   \n",
       "1     0.53  Spirit  ENTERTAINMENT ACCESSORIES       9.0       7.0      4.75   \n",
       "2     0.53  Spirit  ENTERTAINMENT ACCESSORIES       9.0       7.0      4.75   \n",
       "3     0.53  Spirit  ENTERTAINMENT ACCESSORIES       9.0       7.0      4.75   \n",
       "4     0.53  Spirit  ENTERTAINMENT ACCESSORIES       9.0       7.0      4.75   \n",
       "\n",
       "  Velocity  \n",
       "0       A+  \n",
       "1       A+  \n",
       "2       A+  \n",
       "3       A+  \n",
       "4       A+  "
      ]
     },
     "execution_count": 41,
     "metadata": {},
     "output_type": "execute_result"
    }
   ],
   "source": [
    "mergedDF = pd.merge(df,SKUdf, on='SKUIDs', how='outer') \n",
    "mergedDF.head()"
   ]
  },
  {
   "cell_type": "markdown",
   "metadata": {},
   "source": [
    "<a id=\"37\"></a> <br>\n",
    "# Summaries"
   ]
  },
  {
   "cell_type": "markdown",
   "metadata": {},
   "source": [
    "<a id=\"38\"></a> <br>\n",
    "# Summary of Peak Day"
   ]
  },
  {
   "cell_type": "code",
   "execution_count": 42,
   "metadata": {
    "collapsed": false
   },
   "outputs": [
    {
     "data": {
      "text/html": [
       "<div>\n",
       "<style scoped>\n",
       "    .dataframe tbody tr th:only-of-type {\n",
       "        vertical-align: middle;\n",
       "    }\n",
       "\n",
       "    .dataframe tbody tr th {\n",
       "        vertical-align: top;\n",
       "    }\n",
       "\n",
       "    .dataframe thead th {\n",
       "        text-align: right;\n",
       "    }\n",
       "</style>\n",
       "<table border=\"1\" class=\"dataframe\">\n",
       "  <thead>\n",
       "    <tr style=\"text-align: right;\">\n",
       "      <th></th>\n",
       "      <th>orNo</th>\n",
       "      <th>Quantity</th>\n",
       "      <th>Hgt</th>\n",
       "      <th>Lgh</th>\n",
       "      <th>Wdh</th>\n",
       "      <th>CuFt</th>\n",
       "    </tr>\n",
       "    <tr>\n",
       "      <th>SKUIDs</th>\n",
       "      <th></th>\n",
       "      <th></th>\n",
       "      <th></th>\n",
       "      <th></th>\n",
       "      <th></th>\n",
       "      <th></th>\n",
       "    </tr>\n",
       "  </thead>\n",
       "  <tbody>\n",
       "    <tr>\n",
       "      <th>10769</th>\n",
       "      <td>1</td>\n",
       "      <td>1.0</td>\n",
       "      <td>1.0</td>\n",
       "      <td>1.0</td>\n",
       "      <td>1.0</td>\n",
       "      <td>0.000579</td>\n",
       "    </tr>\n",
       "    <tr>\n",
       "      <th>11627</th>\n",
       "      <td>3</td>\n",
       "      <td>4.0</td>\n",
       "      <td>8.2</td>\n",
       "      <td>1.1</td>\n",
       "      <td>7.1</td>\n",
       "      <td>0.037061</td>\n",
       "    </tr>\n",
       "    <tr>\n",
       "      <th>12468</th>\n",
       "      <td>1</td>\n",
       "      <td>2.0</td>\n",
       "      <td>14.0</td>\n",
       "      <td>0.8</td>\n",
       "      <td>12.0</td>\n",
       "      <td>0.077778</td>\n",
       "    </tr>\n",
       "    <tr>\n",
       "      <th>16980</th>\n",
       "      <td>1</td>\n",
       "      <td>1.0</td>\n",
       "      <td>13.5</td>\n",
       "      <td>0.4</td>\n",
       "      <td>16.0</td>\n",
       "      <td>0.050000</td>\n",
       "    </tr>\n",
       "    <tr>\n",
       "      <th>23358</th>\n",
       "      <td>1</td>\n",
       "      <td>1.0</td>\n",
       "      <td>12.0</td>\n",
       "      <td>1.0</td>\n",
       "      <td>6.5</td>\n",
       "      <td>0.045139</td>\n",
       "    </tr>\n",
       "  </tbody>\n",
       "</table>\n",
       "</div>"
      ],
      "text/plain": [
       "        orNo  Quantity   Hgt  Lgh   Wdh      CuFt\n",
       "SKUIDs                                           \n",
       "10769      1       1.0   1.0  1.0   1.0  0.000579\n",
       "11627      3       4.0   8.2  1.1   7.1  0.037061\n",
       "12468      1       2.0  14.0  0.8  12.0  0.077778\n",
       "16980      1       1.0  13.5  0.4  16.0  0.050000\n",
       "23358      1       1.0  12.0  1.0   6.5  0.045139"
      ]
     },
     "execution_count": 42,
     "metadata": {},
     "output_type": "execute_result"
    }
   ],
   "source": [
    "peakDF = mergedDF[mergedDF['DAY']== '2018-10-01']\n",
    "peakDFbySKU = pd.DataFrame(peakDF.groupby(['SKUIDs'])['orNo'].nunique())\n",
    "peakDFbySKU = peakDFbySKU.rename(columns={'OrNo':'Orders'})\n",
    "peakDFbySKU['Quantity'] = peakDF.groupby(['SKUIDs'])['QTY'].sum()\n",
    "peakDFbySKU['Hgt'] = peakDF.groupby(['SKUIDs'])['Item_Hgt'].mean()\n",
    "peakDFbySKU['Lgh'] = peakDF.groupby(['SKUIDs'])['Item_Lgh'].mean()\n",
    "peakDFbySKU['Wdh'] = peakDF.groupby(['SKUIDs'])['Item_Wdh'].mean()\n",
    "# peakDFbySKU['CuFt'] = peakDFbySKU['Item_Hgt']\n",
    "peakDFbySKU ['CuFt'] = peakDFbySKU['Hgt']*peakDFbySKU['Lgh']*peakDFbySKU['Wdh']*(1/12**3)\n",
    "peakDFbySKU.head()"
   ]
  },
  {
   "cell_type": "markdown",
   "metadata": {},
   "source": [
    "<a id=\"39\"></a> <br>\n",
    "# Number of lines per Department"
   ]
  },
  {
   "cell_type": "code",
   "execution_count": 43,
   "metadata": {
    "collapsed": false
   },
   "outputs": [
    {
     "name": "stdout",
     "output_type": "stream",
     "text": [
      "Top five Departments are:\n"
     ]
    },
    {
     "data": {
      "text/plain": [
       "ENTERTAINMENT ACCESSORIES    149971\n",
       "INTIMATE TOYS                129316\n",
       "CHILD MALE COSTUMES          124816\n",
       "ADULT FEMALE COSTUMES        120854\n",
       "IMPULSE                      106572\n",
       "Name: Dept_Name, dtype: int64"
      ]
     },
     "execution_count": 43,
     "metadata": {},
     "output_type": "execute_result"
    },
    {
     "data": {
      "image/png": "[encoded data removed]",
      "text/plain": [
       "<Figure size 1800x600 with 1 Axes>"
      ]
     },
     "metadata": {},
     "output_type": "display_data"
    }
   ],
   "source": [
    "mergedDF['Dept_Name'].value_counts(dropna =False)\n",
    "fig, ax = pyplot.subplots(figsize=(18,6))\n",
    "sns.countplot(ax=ax, x=\"Dept_Name\", data=mergedDF)\n",
    "plt.xticks(rotation=90)\n",
    "print(\"Top five Departments are:\")\n",
    "mergedDF.loc[:,'Dept_Name'].value_counts().nlargest(5)"
   ]
  },
  {
   "cell_type": "markdown",
   "metadata": {},
   "source": [
    "<a id=\"40\"></a> <br>\n",
    "# Number of lines per Brand"
   ]
  },
  {
   "cell_type": "code",
   "execution_count": 44,
   "metadata": {
    "collapsed": false
   },
   "outputs": [
    {
     "data": {
      "text/plain": [
       "Spirit      1069147\n",
       "Spencers     743501\n",
       "Name: Brand, dtype: int64"
      ]
     },
     "execution_count": 44,
     "metadata": {},
     "output_type": "execute_result"
    },
    {
     "data": {
      "image/png": "[encoded data removed]",
      "text/plain": [
       "<Figure size 600x400 with 1 Axes>"
      ]
     },
     "metadata": {},
     "output_type": "display_data"
    }
   ],
   "source": [
    "mergedDF['Brand'].value_counts(dropna =False)\n",
    "sns.countplot(x=\"Brand\", data=mergedDF)\n",
    "plt.xticks(rotation=90)\n",
    "mergedDF.loc[:,'Brand'].value_counts()"
   ]
  },
  {
   "cell_type": "markdown",
   "metadata": {},
   "source": [
    "# barplot for qty per single-multi\n",
    "<a id=\"42\"></a> <br>\n",
    "**barplot** is a general plot that allows us to aggregate the categorical data based off some function, by default the mean:"
   ]
  },
  {
   "cell_type": "code",
   "execution_count": 45,
   "metadata": {
    "collapsed": false
   },
   "outputs": [
    {
     "data": {
      "text/plain": [
       "<matplotlib.axes._subplots.AxesSubplot at 0x5a5e8518>"
      ]
     },
     "execution_count": 45,
     "metadata": {},
     "output_type": "execute_result"
    },
    {
     "data": {
      "image/png": "[encoded data removed]",
      "text/plain": [
       "<Figure size 600x400 with 1 Axes>"
      ]
     },
     "metadata": {},
     "output_type": "display_data"
    }
   ],
   "source": [
    "sns.barplot(x='SingleMulti',y='sumQTY',data=mergedDF)"
   ]
  },
  {
   "cell_type": "markdown",
   "metadata": {},
   "source": [
    "# boxplot for qty per single-multi\n",
    "<a id=\"43\"></a> <br>\n",
    "boxplots are used to shown the distribution of categorical data. A box plot (or box-and-whisker plot) shows the distribution of quantitative data in a way that facilitates comparisons between variables or across levels of a categorical variable. The box shows the quartiles of the dataset while the whiskers extend to show the rest of the distribution, except for points that are determined to be “outliers” using a method that is a function of the inter-quartile range."
   ]
  },
  {
   "cell_type": "code",
   "execution_count": 46,
   "metadata": {
    "collapsed": false
   },
   "outputs": [
    {
     "data": {
      "text/plain": [
       "<matplotlib.axes._subplots.AxesSubplot at 0x5a62ac88>"
      ]
     },
     "execution_count": 46,
     "metadata": {},
     "output_type": "execute_result"
    },
    {
     "data": {
      "image/png": "[encoded data removed]",
      "text/plain": [
       "<Figure size 600x400 with 1 Axes>"
      ]
     },
     "metadata": {},
     "output_type": "display_data"
    }
   ],
   "source": [
    "sns.boxplot(x=\"SingleMulti\", y=\"sumQTY\", data=mergedDF,palette='rainbow', showfliers=False)"
   ]
  },
  {
   "cell_type": "code",
   "execution_count": 47,
   "metadata": {
    "collapsed": false
   },
   "outputs": [
    {
     "data": {
      "text/plain": [
       "<matplotlib.axes._subplots.AxesSubplot at 0x57348ba8>"
      ]
     },
     "execution_count": 47,
     "metadata": {},
     "output_type": "execute_result"
    },
    {
     "data": {
      "image/png": "[encoded data removed]",
      "text/plain": [
       "<Figure size 600x400 with 1 Axes>"
      ]
     },
     "metadata": {},
     "output_type": "display_data"
    }
   ],
   "source": [
    "sns.boxplot(x=\"SingleMulti\", y=\"sumQTY\", hue = 'Velocity', data=mergedDF,palette='rainbow', showfliers=False)"
   ]
  },
  {
   "cell_type": "markdown",
   "metadata": {},
   "source": [
    "# distplot for AVG Cost\n",
    "<a id=\"44\"></a> <br>\n",
    "The distplot shows the distribution of a univariate set of observations."
   ]
  },
  {
   "cell_type": "code",
   "execution_count": 48,
   "metadata": {
    "collapsed": false
   },
   "outputs": [
    {
     "data": {
      "text/plain": [
       "<matplotlib.axes._subplots.AxesSubplot at 0x5a620780>"
      ]
     },
     "execution_count": 48,
     "metadata": {},
     "output_type": "execute_result"
    },
    {
     "data": {
      "image/png": "[encoded data removed]",
      "text/plain": [
       "<Figure size 600x400 with 1 Axes>"
      ]
     },
     "metadata": {},
     "output_type": "display_data"
    }
   ],
   "source": [
    "mergedDFAVGCOSTLe40 = mergedDF[mergedDF['AVGCOST'] <= 40] # Removing outliers\n",
    "sns.distplot(mergedDFAVGCOSTLe40['AVGCOST'],kde=False)"
   ]
  },
  {
   "cell_type": "markdown",
   "metadata": {},
   "source": [
    "# Violinplot for AVG Cost per Single-Multi\n",
    "<a id=\"45\"></a> <br>\n",
    "A violin plot plays a similar role as a box and whisker plot. It shows the distribution of quantitative data across several levels of one (or more) categorical variables such that those distributions can be compared. Unlike a box plot, in which all of the plot components correspond to actual datapoints, the violin plot features a kernel density estimation of the underlying distribution."
   ]
  },
  {
   "cell_type": "code",
   "execution_count": 49,
   "metadata": {
    "collapsed": false
   },
   "outputs": [
    {
     "data": {
      "text/plain": [
       "<matplotlib.axes._subplots.AxesSubplot at 0x3e597908>"
      ]
     },
     "execution_count": 49,
     "metadata": {},
     "output_type": "execute_result"
    },
    {
     "data": {
      "image/png": "[encoded data removed]",
      "text/plain": [
       "<Figure size 600x400 with 1 Axes>"
      ]
     },
     "metadata": {},
     "output_type": "display_data"
    }
   ],
   "source": [
    "sns.violinplot(x=\"SingleMulti\", y=\"AVGCOST\", data=mergedDFAVGCOSTLe40,palette='rainbow')"
   ]
  },
  {
   "cell_type": "code",
   "execution_count": 50,
   "metadata": {
    "collapsed": false
   },
   "outputs": [
    {
     "data": {
      "text/plain": [
       "<matplotlib.axes._subplots.AxesSubplot at 0x3e648be0>"
      ]
     },
     "execution_count": 50,
     "metadata": {},
     "output_type": "execute_result"
    },
    {
     "data": {
      "image/png": "[encoded data removed]",
      "text/plain": [
       "<Figure size 600x400 with 1 Axes>"
      ]
     },
     "metadata": {},
     "output_type": "display_data"
    }
   ],
   "source": [
    "sns.violinplot(x=\"SingleMulti\", y=\"AVGCOST\", hue = 'Velocity', data=mergedDFAVGCOSTLe40,palette='rainbow')"
   ]
  }
 ],
 "metadata": {
  "kernelspec": {
   "display_name": "Python 3",
   "language": "python",
   "name": "python3"
  },
  "language_info": {
   "codemirror_mode": {
    "name": "ipython",
    "version": 3
   },
   "file_extension": ".py",
   "mimetype": "text/x-python",
   "name": "python",
   "nbconvert_exporter": "python",
   "pygments_lexer": "ipython3",
   "version": "3.5.6"
  }
 },
 "nbformat": 4,
 "nbformat_minor": 2
}
